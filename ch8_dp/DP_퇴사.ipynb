{
 "cells": [
  {
   "cell_type": "code",
   "execution_count": 2,
   "metadata": {},
   "outputs": [
    {
     "name": "stdout",
     "output_type": "stream",
     "text": [
      "7\n",
      "3 10\n",
      "5 20\n",
      "1 10\n",
      "1 20\n",
      "2 15\n",
      "4 40\n",
      "2 200\n",
      "7 time :  8\n",
      "6 time :  9\n",
      "5 time :  6\n",
      "max_value :  15\n",
      "4 time :  4\n",
      "max_value :  35\n",
      "3 time :  3\n",
      "max_value :  45\n",
      "2 time :  6\n",
      "max_value :  45\n",
      "1 time :  3\n",
      "max_value :  45\n",
      "45\n"
     ]
    }
   ],
   "source": [
    "n = int(input())\n",
    "t = []\n",
    "p = []\n",
    "dp = [0] * (n+1)\n",
    "max_value = 0\n",
    "\n",
    "for _ in range(n):\n",
    "    x, y = map(int, input().split())\n",
    "    t.append(x)\n",
    "    p.append(y)\n",
    "    \n",
    "for i in range(n-1, -1, -1):\n",
    "    time = t[i] + i \n",
    "    print(i+1,'time : ',time)\n",
    "    if time <= n: #퇴사일까지 상담 가능하면\n",
    "        dp[i] = max(p[i] + dp[time], max_value)\n",
    "        max_value = dp[i]\n",
    "        print('max_value : ',max_value)\n",
    "    else:\n",
    "        dp[i] = max_value\n",
    "print(max_value)"
   ]
  },
  {
   "cell_type": "code",
   "execution_count": 3,
   "metadata": {},
   "outputs": [
    {
     "data": {
      "text/plain": [
       "[45, 45, 45, 35, 15, 0, 0, 0]"
      ]
     },
     "execution_count": 3,
     "metadata": {},
     "output_type": "execute_result"
    }
   ],
   "source": [
    "dp"
   ]
  },
  {
   "cell_type": "code",
   "execution_count": null,
   "metadata": {},
   "outputs": [],
   "source": []
  }
 ],
 "metadata": {
  "kernelspec": {
   "display_name": "Python 3",
   "language": "python",
   "name": "python3"
  },
  "language_info": {
   "codemirror_mode": {
    "name": "ipython",
    "version": 3
   },
   "file_extension": ".py",
   "mimetype": "text/x-python",
   "name": "python",
   "nbconvert_exporter": "python",
   "pygments_lexer": "ipython3",
   "version": "3.8.3"
  }
 },
 "nbformat": 4,
 "nbformat_minor": 4
}
