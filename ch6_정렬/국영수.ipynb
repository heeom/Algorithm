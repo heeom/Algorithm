{
 "cells": [
  {
   "cell_type": "code",
   "execution_count": 4,
   "metadata": {},
   "outputs": [
    {
     "name": "stdout",
     "output_type": "stream",
     "text": [
      "3\n",
      "Sei 70 70 70  \n",
      "Wonseob 70 70 90  \n",
      "Sanghyun 70 70 80 \n",
      "Wonseob\n",
      "Sanghyun\n",
      "Sei\n"
     ]
    }
   ],
   "source": [
    "n = int(input())\n",
    "scores = []\n",
    "for _ in range(n):\n",
    "    name, kor, eng, math = map(str, input().split())\n",
    "    scores.append((-int(kor), int(eng), -int(math), name))\n",
    "    \n",
    "scores.sort()\n",
    "\n",
    "for s in scores:\n",
    "    print(s[3])"
   ]
  },
  {
   "cell_type": "code",
   "execution_count": 13,
   "metadata": {},
   "outputs": [
    {
     "name": "stdout",
     "output_type": "stream",
     "text": [
      "[(1, 'a', 1), (1, 'a', 2), (1, 'b', 1)]\n"
     ]
    }
   ],
   "source": [
    "array = [(1,'b',1),(1,'a',2),(1,'a',1)]\n",
    "array.sort(key = lambda x : (x[1], int(x[2]), int(x[0]))) \n",
    "print(array)"
   ]
  },
  {
   "cell_type": "code",
   "execution_count": null,
   "metadata": {},
   "outputs": [],
   "source": []
  }
 ],
 "metadata": {
  "kernelspec": {
   "display_name": "Python 3",
   "language": "python",
   "name": "python3"
  },
  "language_info": {
   "codemirror_mode": {
    "name": "ipython",
    "version": 3
   },
   "file_extension": ".py",
   "mimetype": "text/x-python",
   "name": "python",
   "nbconvert_exporter": "python",
   "pygments_lexer": "ipython3",
   "version": "3.8.3"
  }
 },
 "nbformat": 4,
 "nbformat_minor": 4
}
