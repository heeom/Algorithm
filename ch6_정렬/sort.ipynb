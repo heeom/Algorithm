{
 "cells": [
  {
   "cell_type": "code",
   "execution_count": 3,
   "metadata": {},
   "outputs": [],
   "source": [
    "# 버블정렬\n",
    "def bubble_sort(array):\n",
    "    for i in range(len(array)):\n",
    "        for j in range(len(array)- i -1):\n",
    "            if array[j] > array[j+1]:\n",
    "                array[j], array[j+1] = array[j+1], array[j]\n",
    "array = [6,3,2,1,5,8,7,4]\n",
    "\n",
    "# bubble_sort(array)"
   ]
  },
  {
   "cell_type": "code",
   "execution_count": 4,
   "metadata": {},
   "outputs": [
    {
     "data": {
      "text/plain": [
       "[1, 2, 3, 4, 5, 6, 7, 8]"
      ]
     },
     "execution_count": 4,
     "metadata": {},
     "output_type": "execute_result"
    }
   ],
   "source": [
    "array"
   ]
  },
  {
   "cell_type": "code",
   "execution_count": 15,
   "metadata": {},
   "outputs": [
    {
     "name": "stdout",
     "output_type": "stream",
     "text": [
      "0 1 [3, 6, 2, 1]\n",
      "1 2 [3, 2, 6, 1]\n",
      "1 1 [2, 3, 6, 1]\n",
      "2 3 [2, 3, 1, 6]\n",
      "2 2 [2, 1, 3, 6]\n",
      "2 1 [1, 2, 3, 6]\n"
     ]
    },
    {
     "data": {
      "text/plain": [
       "[1, 2, 3, 6]"
      ]
     },
     "execution_count": 15,
     "metadata": {},
     "output_type": "execute_result"
    }
   ],
   "source": [
    "# 삽입정렬\n",
    "def insertion_sort(array):\n",
    "    for i in range(len(array)-1):\n",
    "        for j in range(i+1, 0, -1):\n",
    "            \n",
    "            if array[j] < array[j-1]:\n",
    "                array[j], array[j-1] = array[j-1], array[j]\n",
    "            else:\n",
    "                break\n",
    "            print(i, j, array)\n",
    "array = [6,3,2,1]                \n",
    "insertion_sort(array)\n",
    "array"
   ]
  },
  {
   "cell_type": "code",
   "execution_count": 23,
   "metadata": {},
   "outputs": [],
   "source": [
    "# 선택 정렬\n",
    "def selection_sort(array):\n",
    "    for stand in range(len(array) - 1):\n",
    "        min_index = stand\n",
    "        for index in range(stand+1, len(array)):\n",
    "            if array[min_index] > array[index]:\n",
    "                min_index = index\n",
    "        array[min_index], array[stand] = array[stand], array[min_index]\n",
    "    return array"
   ]
  },
  {
   "cell_type": "code",
   "execution_count": 24,
   "metadata": {},
   "outputs": [
    {
     "data": {
      "text/plain": [
       "[1, 2, 3, 4, 5, 6, 7, 8]"
      ]
     },
     "execution_count": 24,
     "metadata": {},
     "output_type": "execute_result"
    }
   ],
   "source": [
    "array = [6,3,2,1,5,8,7,4]\n",
    "selection_sort(array)"
   ]
  },
  {
   "cell_type": "code",
   "execution_count": 29,
   "metadata": {},
   "outputs": [
    {
     "name": "stdout",
     "output_type": "stream",
     "text": [
      "[1, 2, 3, 4, 5, 6, 7, 8, 9]\n"
     ]
    }
   ],
   "source": [
    "# 병합정렬\n",
    "def merge(left, right):\n",
    "    merged = []\n",
    "    left_idx, right_idx = 0,0\n",
    "    \n",
    "    #left, right 둘다 있는경우\n",
    "    while len(left) > left_idx and len(right) > right_idx:\n",
    "        if left[left_idx] > right[right_idx]:\n",
    "            merged.append(right[right_idx])\n",
    "            right_idx += 1\n",
    "        else:\n",
    "            merged.append(left[left_idx])\n",
    "            left_idx += 1\n",
    "    \n",
    "    #left만 있는경우\n",
    "    if len(left) > left_idx:\n",
    "        merged.extend(left[left_idx:])\n",
    "    \n",
    "    #right만 남은 경우\n",
    "    if len(right) > right_idx:\n",
    "        merged.extend(right[right_idx:])\n",
    "        \n",
    "    return merged\n",
    "\n",
    "def merge_sort(array):\n",
    "    if len(array) <= 1:\n",
    "        return array\n",
    "    mid = len(array) // 2\n",
    "    left = merge_sort(array[:mid])\n",
    "    right = merge_sort(array[mid:])\n",
    "    return merge(left, right)\n",
    "\n",
    "\n",
    "\n",
    "if __name__ == '__main__':\n",
    "    array = [6,3,2,1,5,8,7,4,9]\n",
    "    result = merge_sort(array)\n",
    "    print(result)"
   ]
  },
  {
   "cell_type": "code",
   "execution_count": 30,
   "metadata": {},
   "outputs": [
    {
     "name": "stdout",
     "output_type": "stream",
     "text": [
      "[1, 2, 3, 4, 5, 6, 7, 8, 9]\n"
     ]
    }
   ],
   "source": [
    "#퀵소트\n",
    "def quick_sort(array):\n",
    "    if len(array) <= 1:\n",
    "        return array\n",
    "    \n",
    "    left, right = [], []\n",
    "    pivot = array[0]\n",
    "    \n",
    "    for i in range(1, len(array)):\n",
    "        if array[i] < pivot:\n",
    "            left.append(array[i])\n",
    "        else:\n",
    "            right.append(array[i])\n",
    "    return quick_sort(left) + [pivot] + quick_sort(right)\n",
    "\n",
    "if __name__ == '__main__':\n",
    "    array = [6,3,2,1,5,8,7,4,9]\n",
    "    result = quick_sort(array)"
   ]
  },
  {
   "cell_type": "code",
   "execution_count": null,
   "metadata": {},
   "outputs": [],
   "source": []
  }
 ],
 "metadata": {
  "kernelspec": {
   "display_name": "Python 3",
   "language": "python",
   "name": "python3"
  },
  "language_info": {
   "codemirror_mode": {
    "name": "ipython",
    "version": 3
   },
   "file_extension": ".py",
   "mimetype": "text/x-python",
   "name": "python",
   "nbconvert_exporter": "python",
   "pygments_lexer": "ipython3",
   "version": "3.8.3"
  }
 },
 "nbformat": 4,
 "nbformat_minor": 4
}
