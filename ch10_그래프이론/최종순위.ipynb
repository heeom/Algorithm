{
 "cells": [
  {
   "cell_type": "code",
   "execution_count": 13,
   "metadata": {},
   "outputs": [
    {
     "name": "stdout",
     "output_type": "stream",
     "text": [
      "1\n",
      "5\n",
      "5 4 3 2 1\n",
      "2\n",
      "2 4\n",
      "3 4\n",
      "[0, 0, 2, 3, 1, 4]\n",
      "5 3 2 4 1 "
     ]
    }
   ],
   "source": [
    "import copy\n",
    "\n",
    "t = int(input())\n",
    "for _ in range(t):\n",
    "    n = int(input())\n",
    "\n",
    "    rank = [0] * (n+1)\n",
    "    tmp = list(map(int, input().split()))\n",
    "\n",
    "    for i in range(n):\n",
    "        rank[tmp[i]] = (n-i)-1\n",
    "        \n",
    "#     이전 대회 랭킹    \n",
    "    record = copy.deepcopy(rank)\n",
    "    \n",
    "    m = int(input())\n",
    "    for _ in range(m):\n",
    "        a,b = map(int, input().split())\n",
    "#         이전대회에서 랭킹순위가 a보다 b가 높다면 a+=1, b+=1해준다(ex.record[a]는 a보다 아래에 있는 팀의 개수라고 생각하면 된다.)\n",
    "        if record[a] < record[b]:\n",
    "            rank[a] += 1\n",
    "            rank[b] -= 1\n",
    "        else:\n",
    "            rank[a] -= 1\n",
    "            rank[b] += 1\n",
    "    latest_rank = [] #     변경된 최신 등수\n",
    "    for i in range(1, n+1):\n",
    "        latest_rank.append((rank[i],i))\n",
    "\n",
    "\n",
    "    latest_rank.sort(reverse=True)\n",
    "    result = []\n",
    "    check = True\n",
    "\n",
    "# i번째 rank와 i+1번째 rank를 비교해서 i+1번째가 더 크거나 같다면 순위판별이 불가능한 것으로 판단한다\n",
    "    for i in range(n-1):\n",
    "        if latest_rank[i][0] > latest_rank[i+1][0]:\n",
    "            result.append(latest_rank[i][1])\n",
    "        else:\n",
    "            check = False\n",
    "            break\n",
    "    if check:\n",
    "        result.append(latest_rank[-1][1])\n",
    "        for r in result:\n",
    "            print(r, end=' ')\n",
    "    else:\n",
    "        print('IMPOSSIBLE')"
   ]
  },
  {
   "cell_type": "code",
   "execution_count": 10,
   "metadata": {},
   "outputs": [
    {
     "data": {
      "text/plain": [
       "[(4, 5), (3, 3), (2, 2), (1, 4), (0, 1)]"
      ]
     },
     "execution_count": 10,
     "metadata": {},
     "output_type": "execute_result"
    }
   ],
   "source": [
    "latest_rank"
   ]
  },
  {
   "cell_type": "code",
   "execution_count": null,
   "metadata": {},
   "outputs": [],
   "source": []
  },
  {
   "cell_type": "code",
   "execution_count": null,
   "metadata": {},
   "outputs": [],
   "source": []
  },
  {
   "cell_type": "code",
   "execution_count": null,
   "metadata": {},
   "outputs": [],
   "source": [
    "latest_rank=[1,2,3,4]\n",
    "l = list(enumerate(latest_rank))"
   ]
  },
  {
   "cell_type": "code",
   "execution_count": null,
   "metadata": {},
   "outputs": [],
   "source": [
    "l=sorted(l, key=lambda x:x[1], reverse=True)"
   ]
  }
 ],
 "metadata": {
  "kernelspec": {
   "display_name": "Python 3",
   "language": "python",
   "name": "python3"
  },
  "language_info": {
   "codemirror_mode": {
    "name": "ipython",
    "version": 3
   },
   "file_extension": ".py",
   "mimetype": "text/x-python",
   "name": "python",
   "nbconvert_exporter": "python",
   "pygments_lexer": "ipython3",
   "version": "3.8.3"
  }
 },
 "nbformat": 4,
 "nbformat_minor": 4
}
