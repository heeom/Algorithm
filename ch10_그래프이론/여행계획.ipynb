{
 "cells": [
  {
   "cell_type": "code",
   "execution_count": 6,
   "metadata": {},
   "outputs": [
    {
     "name": "stdout",
     "output_type": "stream",
     "text": [
      "5 4\n",
      "0 1 0 1 1  \n",
      "1 0 0 1 0  \n",
      "0 0 0 0 0  \n",
      "1 1 0 0 0  \n",
      "1 0 0 0 0 \n",
      "2 3 4 3\n",
      "NO\n"
     ]
    }
   ],
   "source": [
    "def find(node):\n",
    "    if parent[node] != node:\n",
    "        parent[node] = find(parent[node])\n",
    "    return parent[node]\n",
    "\n",
    "def union(node1, node2):\n",
    "    root1, root2 = find(node1), find(node2)\n",
    "    \n",
    "    if root1 < root2:\n",
    "        parent[root2] = root1\n",
    "    else:\n",
    "        parent[root1] = root2\n",
    "    \n",
    "n, m = map(int, input().split())\n",
    "parent = [i for i in range(n)]\n",
    "graph = []\n",
    "for _ in range(n):\n",
    "    graph.append(list(map(int, input().split())))\n",
    "\n",
    "route = list(map(int, input().split()))\n",
    "\n",
    "for i in range(n):\n",
    "    for j in range(n):\n",
    "        if graph[i][j] == 1 and find(i) != find(j):\n",
    "            union(i, j)\n",
    "\n",
    "# p = parent[route[0]-1]\n",
    "# available = True\n",
    "# for r in route:\n",
    "#     if p != parent[r-1]:\n",
    "#         available = False\n",
    "#         break\n",
    "        \n",
    "for r in range(1, len(route)):\n",
    "    if parent[route[r-1]-1] != parent[route[r]-1]:\n",
    "        available = False\n",
    "        break\n",
    "    \n",
    "if available:\n",
    "    print('YES')\n",
    "else:\n",
    "    print('NO')"
   ]
  },
  {
   "cell_type": "code",
   "execution_count": 7,
   "metadata": {},
   "outputs": [
    {
     "data": {
      "text/plain": [
       "[0, 0, 2, 0, 0]"
      ]
     },
     "execution_count": 7,
     "metadata": {},
     "output_type": "execute_result"
    }
   ],
   "source": [
    "parent"
   ]
  },
  {
   "cell_type": "code",
   "execution_count": null,
   "metadata": {},
   "outputs": [],
   "source": []
  }
 ],
 "metadata": {
  "kernelspec": {
   "display_name": "Python 3",
   "language": "python",
   "name": "python3"
  },
  "language_info": {
   "codemirror_mode": {
    "name": "ipython",
    "version": 3
   },
   "file_extension": ".py",
   "mimetype": "text/x-python",
   "name": "python",
   "nbconvert_exporter": "python",
   "pygments_lexer": "ipython3",
   "version": "3.8.3"
  }
 },
 "nbformat": 4,
 "nbformat_minor": 4
}
