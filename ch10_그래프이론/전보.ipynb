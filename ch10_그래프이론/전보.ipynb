{
 "cells": [
  {
   "cell_type": "code",
   "execution_count": 1,
   "metadata": {},
   "outputs": [
    {
     "name": "stdout",
     "output_type": "stream",
     "text": [
      "3 2 1\n",
      "1 2 4\n",
      "1 3 2\n",
      "2 4\n"
     ]
    }
   ],
   "source": [
    "# 최소 신장 트리 만들기 (한 그래프 내에 모든 노드포함, 간선에 weight있음)\n",
    "\n",
    "def find(node):\n",
    "    if parent[node] != node:\n",
    "        parent[node] = find(parent[node])\n",
    "    return parent[node]\n",
    "\n",
    "def union(node1, node2):\n",
    "    root1, root2 = find(node1), find(node2)\n",
    "    \n",
    "    if root1 < root2:\n",
    "        parent[root2] = root1\n",
    "    else:\n",
    "        parent[root1] = root2\n",
    "        \n",
    "# 초기화\n",
    "n, m, c = map(int, input().split())\n",
    "\n",
    "parent = [i for i in range(n+1)]\n",
    "edges = []\n",
    "\n",
    "for _ in range(m):\n",
    "    a, b, t = map(int, input().split())\n",
    "    edges.append((t, a, b))\n",
    "    \n",
    "edges.append((0, c, c))\n",
    "edges.sort()\n",
    "\n",
    "time = 0 #총 걸리는 시간\n",
    "count = 0 #메세지 보낸 도시 수 \n",
    "for edge in edges:\n",
    "    t, a, b = edge\n",
    "\n",
    "    if find(a) != find(b):\n",
    "        union(a, b)\n",
    "        time = t\n",
    "        count += 1\n",
    "        \n",
    "print(count, time)"
   ]
  },
  {
   "cell_type": "code",
   "execution_count": 3,
   "metadata": {},
   "outputs": [
    {
     "name": "stdout",
     "output_type": "stream",
     "text": [
      "3 2 1\n",
      "1 2 4\n",
      "1 3 2\n",
      "2 4\n"
     ]
    }
   ],
   "source": [
    "# dijkstra \n",
    "# 1. 시작 노드에서 각 노드까지의 최단거리를 저장할 리스트 : distance = [] \n",
    "# 2. 최소힙를 이용한다, \n",
    "import heapq\n",
    "\n",
    "n, m, c = map(int, input().split())\n",
    "cities = [[] for _ in range(n+1)]\n",
    "\n",
    "for _ in range(m):\n",
    "    a, b, t = map(int, input().split())\n",
    "    cities[a].append((t, b))\n",
    "\n",
    "    \n",
    "INF = int(1e9)\n",
    "distance = [INF] * (n+1)\n",
    "distance[c] = 0\n",
    "q = []\n",
    "heapq.heappush(q, (0, c))\n",
    "\n",
    "while q:\n",
    "    t, now = heapq.heappop(q)\n",
    "    \n",
    "#     이미 처리된 노드\n",
    "    if distance[now] < t:\n",
    "        continue\n",
    "    \n",
    "    for next_city in cities[now]:\n",
    "        time, city = next_city\n",
    "        tt = time + distance[now]\n",
    "        \n",
    "        if tt < distance[city]:\n",
    "            distance[city] = tt\n",
    "            heapq.heappush(q, (tt, city))\n",
    "    \n",
    "count = 0\n",
    "total_time = 0\n",
    "for d in distance:\n",
    "    if d != INF:\n",
    "        count += 1\n",
    "        if d > total_time:\n",
    "            total_time = d\n",
    "            \n",
    "print(count-1, total_time)\n",
    "    "
   ]
  },
  {
   "cell_type": "code",
   "execution_count": null,
   "metadata": {},
   "outputs": [],
   "source": []
  }
 ],
 "metadata": {
  "kernelspec": {
   "display_name": "Python 3",
   "language": "python",
   "name": "python3"
  },
  "language_info": {
   "codemirror_mode": {
    "name": "ipython",
    "version": 3
   },
   "file_extension": ".py",
   "mimetype": "text/x-python",
   "name": "python",
   "nbconvert_exporter": "python",
   "pygments_lexer": "ipython3",
   "version": "3.8.3"
  }
 },
 "nbformat": 4,
 "nbformat_minor": 4
}
