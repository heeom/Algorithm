{
 "cells": [
  {
   "cell_type": "code",
   "execution_count": 2,
   "metadata": {},
   "outputs": [
    {
     "name": "stdout",
     "output_type": "stream",
     "text": [
      "3 3\n",
      "1 2\n",
      "1 3\n",
      "2 3\n",
      "Cycle!\n"
     ]
    }
   ],
   "source": [
    "# 서로소 집합 \n",
    "# 연산 : union, find\n",
    "\n",
    "def find(node):\n",
    "    if parent[node] != node:\n",
    "        parent[node] = find(parent[node])\n",
    "        \n",
    "    return parent[node]\n",
    "\n",
    "def union(node1, node2):\n",
    "    root1, root2 = find(node1), find(node2)\n",
    "    \n",
    "    if root1 < root2:\n",
    "        parent[root2] = root1\n",
    "    else:\n",
    "        parent[root1] = root2\n",
    "        \n",
    "v, e = map(int, input().split())\n",
    "parent = [i for i in range(v+1)]\n",
    "cycle = False\n",
    "\n",
    "for _ in range(e):\n",
    "    a, b = map(int, input().split())\n",
    "    \n",
    "    if find(a) == find(b):\n",
    "        cycle = True\n",
    "        break\n",
    "    else:\n",
    "        union(a, b)\n",
    "        \n",
    "if cycle:\n",
    "    print('Cycle!')\n",
    "else:\n",
    "    print('No cycle!')"
   ]
  },
  {
   "cell_type": "code",
   "execution_count": null,
   "metadata": {},
   "outputs": [],
   "source": []
  }
 ],
 "metadata": {
  "kernelspec": {
   "display_name": "Python 3",
   "language": "python",
   "name": "python3"
  },
  "language_info": {
   "codemirror_mode": {
    "name": "ipython",
    "version": 3
   },
   "file_extension": ".py",
   "mimetype": "text/x-python",
   "name": "python",
   "nbconvert_exporter": "python",
   "pygments_lexer": "ipython3",
   "version": "3.8.3"
  }
 },
 "nbformat": 4,
 "nbformat_minor": 4
}
