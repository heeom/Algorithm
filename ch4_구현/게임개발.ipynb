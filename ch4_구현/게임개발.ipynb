{
 "cells": [
  {
   "cell_type": "code",
   "execution_count": 16,
   "metadata": {},
   "outputs": [
    {
     "name": "stdout",
     "output_type": "stream",
     "text": [
      "4 4\n",
      "1 1 0\n",
      "1 1 1 1\n",
      "1 0 0 1\n",
      "1 1 0 1\n",
      "1 1 1 1\n",
      "{(1, 1)}\n",
      "{(1, 0), (1, 1)}\n",
      "{(1, 0), (1, 1), (2, 0)}\n",
      "{(1, 0), (1, 1), (2, 0), (2, 1)}\n",
      "{(1, 0), (1, 1), (2, 0), (2, 1)}\n"
     ]
    }
   ],
   "source": [
    "N, M = map(int, input().split())\n",
    "r,c,d = map(int, input().split())\n",
    "\n",
    "map_array = []\n",
    "for _ in range(N):\n",
    "    map_array.append(list(input().split()))\n",
    "    \n",
    "nd = [(-1,0),(0,1),(1,0),(0,-1)]\n",
    "visited = set()\n",
    "visited.add((r,c))\n",
    "turn=0\n",
    "while True:\n",
    "    next_d = (d+3) %4\n",
    "    turn += 1\n",
    "    nr = r+nd[next_d][0]\n",
    "    nc = c+nd[next_d][1]\n",
    "    if nr>=0 and nr<N and nc>=0 and nc<M :\n",
    "        if (nr, nc) not in visited and map_array[nr][nc] != 1:\n",
    "            d = next_d\n",
    "            r = nr\n",
    "            c = nc\n",
    "            visited.add((nr,nc))\n",
    "            turn = 0\n",
    "    if turn == 4:\n",
    "            nr = r - nd[next_d][0]\n",
    "            nc = c - nd[next_d][1]\n",
    "            if nr>=0 and nr<N and nc>=0 and nc<M and map_array[nr][nc] != 1:\n",
    "                    r = nr\n",
    "                    c = nc\n",
    "                    \n",
    "            else:\n",
    "                break\n",
    "    else:\n",
    "        d = next_d"
   ]
  },
  {
   "cell_type": "code",
   "execution_count": 18,
   "metadata": {},
   "outputs": [
    {
     "name": "stdout",
     "output_type": "stream",
     "text": [
      "1\n"
     ]
    }
   ],
   "source": [
    "print(len(visited))"
   ]
  },
  {
   "cell_type": "code",
   "execution_count": 19,
   "metadata": {},
   "outputs": [
    {
     "data": {
      "text/plain": [
       "{(1, 1)}"
      ]
     },
     "execution_count": 19,
     "metadata": {},
     "output_type": "execute_result"
    }
   ],
   "source": [
    "visited"
   ]
  },
  {
   "cell_type": "code",
   "execution_count": 21,
   "metadata": {},
   "outputs": [
    {
     "name": "stdout",
     "output_type": "stream",
     "text": [
      "0\n"
     ]
    }
   ],
   "source": [
    "print(count)"
   ]
  },
  {
   "cell_type": "code",
   "execution_count": null,
   "metadata": {},
   "outputs": [],
   "source": []
  }
 ],
 "metadata": {
  "kernelspec": {
   "display_name": "Python 3",
   "language": "python",
   "name": "python3"
  },
  "language_info": {
   "codemirror_mode": {
    "name": "ipython",
    "version": 3
   },
   "file_extension": ".py",
   "mimetype": "text/x-python",
   "name": "python",
   "nbconvert_exporter": "python",
   "pygments_lexer": "ipython3",
   "version": "3.8.3"
  }
 },
 "nbformat": 4,
 "nbformat_minor": 4
}
