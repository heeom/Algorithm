{
 "cells": [
  {
   "cell_type": "code",
   "execution_count": 3,
   "metadata": {},
   "outputs": [
    {
     "name": "stdout",
     "output_type": "stream",
     "text": [
      "5\n",
      "R R R U D D\n",
      "3 4\n"
     ]
    }
   ],
   "source": [
    "n = int(input())\n",
    "map_list = list(input().split())\n",
    "\n",
    "X, Y = 1,1\n",
    "\n",
    "for m in map_list:\n",
    "    if m == 'L' and Y > 1:\n",
    "        Y -= 1\n",
    "    elif m == 'R' and Y < n-1:\n",
    "        Y +=1\n",
    "    elif m =='U' and X > 1 :\n",
    "        X -= 1\n",
    "    elif m == 'D' and X < n-1:\n",
    "        X += 1\n",
    "        \n",
    "print(X, Y)\n",
    "        "
   ]
  }
 ],
 "metadata": {
  "kernelspec": {
   "display_name": "Python 3",
   "language": "python",
   "name": "python3"
  },
  "language_info": {
   "codemirror_mode": {
    "name": "ipython",
    "version": 3
   },
   "file_extension": ".py",
   "mimetype": "text/x-python",
   "name": "python",
   "nbconvert_exporter": "python",
   "pygments_lexer": "ipython3",
   "version": "3.8.3"
  }
 },
 "nbformat": 4,
 "nbformat_minor": 4
}
