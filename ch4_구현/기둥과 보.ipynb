{
 "cells": [
  {
   "cell_type": "code",
   "execution_count": 58,
   "metadata": {},
   "outputs": [],
   "source": [
    "def solution(n, build_frame):\n",
    "    answer = []\n",
    "    \n",
    "    array = [[2]*(n+3) for _ in range(n+3)] # X, Y 각각 한 줄씩 추가 해준다 IndexOutOfRange 피하기 위해\n",
    "        \n",
    "    for c, r, a, b in build_frame:\n",
    "        c +=1\n",
    "        r +=1\n",
    "        #설치 \n",
    "        if b == 1:\n",
    "            # a=기둥 \n",
    "            # 1.바닥위 2.보(1)의 위 3.기둥(0) 위                                                                                                                                                                                                                                                                                                                                                                                                                                                                                                                                                                                                                                                                                                                                                                                                                                                                                                                                                                                                                                                                                                                                                                                                                                                                                                                                                                                                                    \n",
    "            if a == 0 :\n",
    "                if r == 1 or array[r][c-1] == 1 or array[r-1][c] == 0:\n",
    "                    array[r][c] = a\n",
    "            # a=보\n",
    "            # 1. 한쪽끝 기둥위 2. 양끝 보와 연결\n",
    "            else:\n",
    "                if (array[r-1][c] == 0 or array[r-1][c+1] == 0) or (array[r][c-1]==1 and array[r][c+1]==1):\n",
    "                    array[r][c] = a\n",
    "        #삭제\n",
    "        else:\n",
    "            array[r][c] = 2\n",
    "           \n",
    "    for i in range(1, n+2):\n",
    "        for j in range(1, n+2):\n",
    "            if array[i][j] < 2:\n",
    "                answer.append([j-1, i-1, array[i][j]])\n",
    "\n",
    "    answer.sort()\n",
    "                \n",
    "    return answer"
   ]
  },
  {
   "cell_type": "code",
   "execution_count": 78,
   "metadata": {},
   "outputs": [
    {
     "data": {
      "text/plain": [
       "[[0, 0, 0], [0, 1, 1], [1, 1, 1], [2, 1, 1], [3, 1, 1], [4, 0, 0]]"
      ]
     },
     "execution_count": 78,
     "metadata": {},
     "output_type": "execute_result"
    }
   ],
   "source": [
    "solution(5, [[0,0,0,1],[2,0,0,1],[4,0,0,1],[0,1,1,1],[1,1,1,1],[2,1,1,1],[3,1,1,1],[2,0,0,0],[1,1,1,0],[2,2,0,1]])"
   ]
  },
  {
   "cell_type": "code",
   "execution_count": 77,
   "metadata": {},
   "outputs": [],
   "source": [
    "def check(answer):\n",
    "    for x, y, a in answer:\n",
    "        if a == 0: # 다리인 경우\n",
    "            # 1.바닥 2.보의 한쪽 끝 3.다리 위\n",
    "            if y == 0 or [x, y, 1] in answer or [x-1, y, 1] in answer or [x, y-1, 0] in answer:\n",
    "                continue\n",
    "            else:\n",
    "                return False\n",
    "        else: # 보인 경우\n",
    "            # 1.한쪽 끝 부분이 다리 위 2.양쪽 끝부분이 다른 보와 동시에 연결\n",
    "            if ([x, y-1, 0] in answer or [x+1, y-1, 0] in answer) or ([x-1, y, 1] in answer and [x+1, y, 1] in answer):\n",
    "                continue\n",
    "            else:\n",
    "                return False\n",
    "    return True\n",
    "                 \n",
    "def solution(n, build_frame):\n",
    "    answer = []\n",
    "    \n",
    "    for x, y, a, b in build_frame:\n",
    "        if b == 1 :\n",
    "            answer.append([x, y, a])\n",
    "            if check(answer) == False:\n",
    "                answer.remove([x, y, a])\n",
    "        elif b == 0 :\n",
    "            answer.remove([x, y, a])\n",
    "            if check(answer) == False:\n",
    "                answer.append([x, y, a])\n",
    "                \n",
    "    answer.sort()\n",
    "                \n",
    "    return answer"
   ]
  },
  {
   "cell_type": "code",
   "execution_count": null,
   "metadata": {},
   "outputs": [],
   "source": []
  }
 ],
 "metadata": {
  "kernelspec": {
   "display_name": "Python 3",
   "language": "python",
   "name": "python3"
  },
  "language_info": {
   "codemirror_mode": {
    "name": "ipython",
    "version": 3
   },
   "file_extension": ".py",
   "mimetype": "text/x-python",
   "name": "python",
   "nbconvert_exporter": "python",
   "pygments_lexer": "ipython3",
   "version": "3.8.3"
  }
 },
 "nbformat": 4,
 "nbformat_minor": 4
}
