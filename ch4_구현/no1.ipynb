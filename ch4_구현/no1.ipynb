{
 "cells": [
  {
   "cell_type": "code",
   "execution_count": 7,
   "metadata": {},
   "outputs": [
    {
     "name": "stdout",
     "output_type": "stream",
     "text": [
      "5\n",
      "R R R U D D\n",
      "R 1 2\n",
      "R 1 3\n",
      "R 1 4\n",
      "U 1 4\n",
      "D 2 4\n",
      "D 3 4\n",
      "3 4\n"
     ]
    }
   ],
   "source": [
    "n = int(input())        \n",
    "direction = list(input().split())\n",
    "\n",
    "x, y = 1,1\n",
    "for d in direction:\n",
    "    if y > 2 and d == 'L':\n",
    "        y -= 1 \n",
    "    elif y < n-1 and d == 'R':\n",
    "        y += 1\n",
    "    elif x > 2 and d == 'U':\n",
    "        x -= 1\n",
    "    elif x < n-1 and d == 'D':\n",
    "        x += 1\n",
    "    \n",
    "print(x, y)"
   ]
  },
  {
   "cell_type": "code",
   "execution_count": 3,
   "metadata": {},
   "outputs": [
    {
     "data": {
      "text/plain": [
       "['1', '2', '3']"
      ]
     },
     "execution_count": 3,
     "metadata": {},
     "output_type": "execute_result"
    }
   ],
   "source": []
  }
 ],
 "metadata": {
  "kernelspec": {
   "display_name": "Python 3",
   "language": "python",
   "name": "python3"
  },
  "language_info": {
   "codemirror_mode": {
    "name": "ipython",
    "version": 3
   },
   "file_extension": ".py",
   "mimetype": "text/x-python",
   "name": "python",
   "nbconvert_exporter": "python",
   "pygments_lexer": "ipython3",
   "version": "3.8.3"
  }
 },
 "nbformat": 4,
 "nbformat_minor": 4
}
