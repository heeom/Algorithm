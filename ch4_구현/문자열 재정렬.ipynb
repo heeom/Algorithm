{
 "cells": [
  {
   "cell_type": "code",
   "execution_count": 5,
   "metadata": {},
   "outputs": [
    {
     "name": "stdout",
     "output_type": "stream",
     "text": [
      "K1KA5CB7\n",
      "ABCKK13\n"
     ]
    }
   ],
   "source": [
    "s = input()\n",
    "new_s = []\n",
    "nums = 0\n",
    "answer = ''\n",
    "for i in s:\n",
    "    if i >= 'A' and i <= 'Z':\n",
    "        new_s.append(i)\n",
    "    else:\n",
    "        nums += int(i)\n",
    "        \n",
    "new_s.sort()\n",
    "# 숫자가 하나도 없을 경우도 생각해야한다\n",
    "# 그러므로\n",
    "\n",
    "if nums != 0:\n",
    "    answer = ''.join(new_s) + str(nums)\n",
    "print(answer)"
   ]
  },
  {
   "cell_type": "code",
   "execution_count": null,
   "metadata": {},
   "outputs": [],
   "source": [
    "# 알파벳인지 여부 판별하는 함수 : str.isalpha()"
   ]
  }
 ],
 "metadata": {
  "kernelspec": {
   "display_name": "Python 3",
   "language": "python",
   "name": "python3"
  },
  "language_info": {
   "codemirror_mode": {
    "name": "ipython",
    "version": 3
   },
   "file_extension": ".py",
   "mimetype": "text/x-python",
   "name": "python",
   "nbconvert_exporter": "python",
   "pygments_lexer": "ipython3",
   "version": "3.8.3"
  }
 },
 "nbformat": 4,
 "nbformat_minor": 4
}
