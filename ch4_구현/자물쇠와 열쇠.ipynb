{
 "cells": [
  {
   "cell_type": "code",
   "execution_count": 21,
   "metadata": {},
   "outputs": [],
   "source": [
    "# 2차원 배열을 90도 회전한 결과를 반환하는 함수\n",
    "def rotate_matrix_by_90_degree(matrix):\n",
    "    n = len(matrix) #행길이\n",
    "    m = len(matrix[0]) #열길이\n",
    "    result = [[0]* n for _ in range(m)]\n",
    "    for i in range(n):\n",
    "        for j in range(m):\n",
    "            result[j][n-1-i] = matrix[i][j]\n",
    "    return result\n",
    "\n",
    "# 자물쇠의 중간 부분이 모두 1인지 확인\n",
    "def check_lock(new_lock):\n",
    "    lock_length = len(new_lock) // 3\n",
    "    for i in range(lock_length, lock_length * 2):\n",
    "        for j in range(lock_length, lock_length * 2):\n",
    "            if new_lock[i][j] != 1:\n",
    "                return False\n",
    "    return True\n",
    "\n",
    "def solution(key, lock):\n",
    "    n = len(lock)\n",
    "    m = len(key)\n",
    "    new_lock = [[0] * (n * 3) for _ in range(n*3)]\n",
    "    \n",
    "    for i in range(n):\n",
    "        for j in range(n):\n",
    "            new_lock[i+n][j+n] = lock[i][j]\n",
    "            \n",
    "            \n",
    "#     시계방향 회전 \n",
    "    for _ in range(4):\n",
    "        key = rotate_a_matrix_by_90_degree(key)\n",
    "        for i in range(n*2):\n",
    "            for j in range(n*2):\n",
    "                #열쇠 끼우기\n",
    "                for r in range(m):\n",
    "                    for c in range(m):\n",
    "                        new_lock[i+r][j+c] += key[r][c]\n",
    "                #열쇠가 정확하게 맞춰졌는지 확인\n",
    "                if check_lock(new_lock) == True:\n",
    "                    return True\n",
    "                #맞지 않다면 다시 열쇠 빼기\n",
    "                for r in range(m):\n",
    "                    for c in range(m):\n",
    "                        new_lock[i+r][j+c] -= key[r][c]\n",
    "    return False"
   ]
  },
  {
   "cell_type": "code",
   "execution_count": 22,
   "metadata": {},
   "outputs": [
    {
     "data": {
      "text/plain": [
       "True"
      ]
     },
     "execution_count": 22,
     "metadata": {},
     "output_type": "execute_result"
    }
   ],
   "source": [
    "solution([[0, 0, 0], [1, 0, 0], [0, 1, 1]],[[1, 1, 1], [1, 1, 0], [1, 0, 1]])"
   ]
  },
  {
   "cell_type": "code",
   "execution_count": null,
   "metadata": {},
   "outputs": [],
   "source": []
  }
 ],
 "metadata": {
  "kernelspec": {
   "display_name": "Python 3",
   "language": "python",
   "name": "python3"
  },
  "language_info": {
   "codemirror_mode": {
    "name": "ipython",
    "version": 3
   },
   "file_extension": ".py",
   "mimetype": "text/x-python",
   "name": "python",
   "nbconvert_exporter": "python",
   "pygments_lexer": "ipython3",
   "version": "3.8.3"
  }
 },
 "nbformat": 4,
 "nbformat_minor": 4
}
