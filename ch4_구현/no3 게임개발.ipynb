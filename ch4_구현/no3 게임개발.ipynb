{
 "cells": [
  {
   "cell_type": "code",
   "execution_count": 1,
   "metadata": {},
   "outputs": [
    {
     "name": "stdout",
     "output_type": "stream",
     "text": [
      "4 4 \n",
      "1 1 0\n",
      "1 1 1 1\n",
      "1 0 0 1\n",
      "1 1 0 1\n",
      "1 1 1 1\n",
      "3\n"
     ]
    }
   ],
   "source": [
    "N, M = map(int, input().split())\n",
    "dx, dy, d = map(int, input().split())\n",
    "\n",
    "game_map = []\n",
    "\n",
    "for _ in range(N):\n",
    "    game_map.append(list(map(int, input().split())))\n",
    "\n",
    "\n",
    "d = [3,2,1,0]\n",
    "l = [2,1,0,3]\n",
    "\n",
    "nx = [0,1,0,-1]\n",
    "ny = [-1,0,1,0]\n",
    "\n",
    "visited = []\n",
    "visited.append((dx, dy))\n",
    "\n",
    "while True:\n",
    "    # change direction \n",
    "    for nd, nl in zip(d,l):\n",
    "        if (dx+nx[nl], dy+ny[nl]) not in visited:\n",
    "            if game_map[dx+nx[nl]][dy+ny[nl]] != 1:\n",
    "                dx = dx+nx[nl]\n",
    "                dy = dy+ny[nl]\n",
    "                d = nd\n",
    "                visited.append((dx,dy))\n",
    "        else:\n",
    "            continue\n",
    "            \n",
    "    if game_map[dx-nx[d]][dy-ny[d]] != 1 and (dx-nx[d], dy-ny[d]) not in visited:\n",
    "        dx = dx-nx[nl]\n",
    "        dy = dy-ny[nl]\n",
    "        visited.append((dx, dy))\n",
    "    else:\n",
    "        break\n",
    "\n",
    "print(len(visited))"
   ]
  },
  {
   "cell_type": "code",
   "execution_count": 12,
   "metadata": {},
   "outputs": [
    {
     "name": "stdout",
     "output_type": "stream",
     "text": [
      "4 5\n",
      "00110\n",
      "00011\n",
      "11111\n",
      "00000\n",
      "[[0, 0, 1, 1, 0], [0, 0, 0, 1, 1], [1, 1, 1, 1, 1], [0, 0, 0, 0, 0]]\n",
      "4\n"
     ]
    }
   ],
   "source": [
    "\n",
    "                    \n",
    "                \n",
    "\n",
    "N, M = map(int, input().split())\n",
    "\n",
    "game_map = []\n",
    "\n",
    "def dfs(i, j, gmap):\n",
    "    stack = []\n",
    "    stack.append((i,j))\n",
    "    \n",
    "    while stack:\n",
    "        x, y = stack.pop()\n",
    "        gmap[x][y] = 1\n",
    "        for a, b in [(0,-1),(0,1),(-1,0),(1,0)]:\n",
    "            nx = x+a\n",
    "            ny = y+b\n",
    "            if (nx >= 0 and nx < N) and (ny >= 0 and ny < N):\n",
    "                if gmap[nx][ny] == 0 :\n",
    "                    stack.append((nx, ny))\n",
    "\n",
    "for _ in range(N):\n",
    "    game_map.append(list(map(int, input())))\n",
    "print(game_map)\n",
    "\n",
    "count = 0\n",
    "\n",
    "for i in range(N):\n",
    "    for j in range(M):\n",
    "        if game_map[i][j] == 0:\n",
    "            dfs(i,j,game_map)\n",
    "            count += 1\n",
    "            \n",
    "print(count)\n",
    "            "
   ]
  },
  {
   "cell_type": "code",
   "execution_count": 10,
   "metadata": {},
   "outputs": [
    {
     "name": "stdout",
     "output_type": "stream",
     "text": [
      "00110\n"
     ]
    },
    {
     "data": {
      "text/plain": [
       "[0, 0, 1, 1, 0]"
      ]
     },
     "execution_count": 10,
     "metadata": {},
     "output_type": "execute_result"
    }
   ],
   "source": [
    "list(map(int, input()))"
   ]
  }
 ],
 "metadata": {
  "kernelspec": {
   "display_name": "Python 3",
   "language": "python",
   "name": "python3"
  },
  "language_info": {
   "codemirror_mode": {
    "name": "ipython",
    "version": 3
   },
   "file_extension": ".py",
   "mimetype": "text/x-python",
   "name": "python",
   "nbconvert_exporter": "python",
   "pygments_lexer": "ipython3",
   "version": "3.8.3"
  }
 },
 "nbformat": 4,
 "nbformat_minor": 5
}
