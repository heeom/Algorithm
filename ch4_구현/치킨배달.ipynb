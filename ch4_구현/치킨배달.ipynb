{
 "cells": [
  {
   "cell_type": "code",
   "execution_count": 28,
   "metadata": {},
   "outputs": [
    {
     "name": "stdout",
     "output_type": "stream",
     "text": [
      "5 1\n",
      "1 2 0 0 0 \n",
      "1 2 0 0 0 \n",
      "1 2 0 0 0 \n",
      "1 2 0 0 0 \n",
      "1 2 0 0 0 \n",
      "15\n",
      "12\n",
      "11\n",
      "12\n",
      "15\n",
      "11\n"
     ]
    }
   ],
   "source": [
    "from itertools import combinations\n",
    "\n",
    "n, m = map(int, input().split())\n",
    "\n",
    "house = []\n",
    "store = []\n",
    "\n",
    "for i in range(n):\n",
    "    data = list(map(int, input().split()))\n",
    "    for j in range(n):\n",
    "        if data[j] == 0:\n",
    "            continue\n",
    "        elif data[j] == 1: #집\n",
    "            house.append((i+1, j+1))\n",
    "        elif data[j] == 2: #치킨집\n",
    "            store.append((i+1, j+1))\n",
    "            \n",
    "store_list = list(combinations(store, m))\n",
    "answer = int(1e9)\n",
    "\n",
    "for chickens in store_list: #10^4\n",
    "    total_dist = 0\n",
    "    for r, c in house: #10^2\n",
    "        nearest = int(1e9)\n",
    "        for x, y in chickens:\n",
    "            distance = abs(r-x) + abs(c-y)\n",
    "            nearest = min(distance, nearest)\n",
    "        total_dist += nearest\n",
    "    answer = min(answer, total_dist)\n",
    "    \n",
    "print(answer)"
   ]
  },
  {
   "cell_type": "code",
   "execution_count": 22,
   "metadata": {},
   "outputs": [
    {
     "name": "stdout",
     "output_type": "stream",
     "text": [
      "10\n"
     ]
    }
   ],
   "source": [
    "print(answer)"
   ]
  },
  {
   "cell_type": "code",
   "execution_count": 25,
   "metadata": {},
   "outputs": [
    {
     "data": {
      "text/plain": [
       "[(1, 1), (2, 1), (3, 1), (4, 1), (5, 1)]"
      ]
     },
     "execution_count": 25,
     "metadata": {},
     "output_type": "execute_result"
    }
   ],
   "source": [
    "house"
   ]
  },
  {
   "cell_type": "code",
   "execution_count": 26,
   "metadata": {},
   "outputs": [
    {
     "data": {
      "text/plain": [
       "[(1, 2), (2, 2), (3, 2), (4, 2), (5, 2)]"
      ]
     },
     "execution_count": 26,
     "metadata": {},
     "output_type": "execute_result"
    }
   ],
   "source": [
    "store"
   ]
  },
  {
   "cell_type": "code",
   "execution_count": 27,
   "metadata": {},
   "outputs": [
    {
     "data": {
      "text/plain": [
       "[((1, 2), (2, 2), (3, 2)),\n",
       " ((1, 2), (2, 2), (4, 2)),\n",
       " ((1, 2), (2, 2), (5, 2)),\n",
       " ((1, 2), (3, 2), (4, 2)),\n",
       " ((1, 2), (3, 2), (5, 2)),\n",
       " ((1, 2), (4, 2), (5, 2)),\n",
       " ((2, 2), (3, 2), (4, 2)),\n",
       " ((2, 2), (3, 2), (5, 2)),\n",
       " ((2, 2), (4, 2), (5, 2)),\n",
       " ((3, 2), (4, 2), (5, 2))]"
      ]
     },
     "execution_count": 27,
     "metadata": {},
     "output_type": "execute_result"
    }
   ],
   "source": [
    "store_list"
   ]
  },
  {
   "cell_type": "code",
   "execution_count": 16,
   "metadata": {},
   "outputs": [
    {
     "name": "stdout",
     "output_type": "stream",
     "text": [
      "2 3\n",
      "3 3\n",
      "5 5\n"
     ]
    }
   ],
   "source": [
    "for i in store_list:\n",
    "    for r, c in i:\n",
    "        print(r, c)"
   ]
  },
  {
   "cell_type": "code",
   "execution_count": 29,
   "metadata": {},
   "outputs": [
    {
     "name": "stdout",
     "output_type": "stream",
     "text": [
      "[('A', 'A'), ('A', 'B'), ('A', 'C'), ('B', 'B'), ('B', 'C'), ('C', 'C')]\n"
     ]
    }
   ],
   "source": [
    "from itertools import combinations_with_replacement\n",
    "string = 'ABC'\n",
    "arr = list(combinations_with_replacement([*string], 2))\n",
    "print(arr)"
   ]
  },
  {
   "cell_type": "code",
   "execution_count": null,
   "metadata": {},
   "outputs": [],
   "source": []
  }
 ],
 "metadata": {
  "kernelspec": {
   "display_name": "Python 3",
   "language": "python",
   "name": "python3"
  },
  "language_info": {
   "codemirror_mode": {
    "name": "ipython",
    "version": 3
   },
   "file_extension": ".py",
   "mimetype": "text/x-python",
   "name": "python",
   "nbconvert_exporter": "python",
   "pygments_lexer": "ipython3",
   "version": "3.8.3"
  }
 },
 "nbformat": 4,
 "nbformat_minor": 4
}
