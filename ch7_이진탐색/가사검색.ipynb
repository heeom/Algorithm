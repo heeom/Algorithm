{
 "cells": [
  {
   "cell_type": "code",
   "execution_count": 20,
   "metadata": {},
   "outputs": [],
   "source": [
    "from bisect import bisect_left, bisect_right\n",
    "\n",
    "#정렬된 수열에서 특정 수의 개수를 구하는 함수\n",
    "def count_by_value(array, left_value, right_value):\n",
    "    right_index = bisect_right(array, right_value)\n",
    "    left_index = bisect_left(array, left_value)\n",
    "    return right_index - left_index\n",
    "\n",
    "def solution(words, queries):\n",
    "    word_list = [[] for _ in range(10001)]\n",
    "    word_reverse_list = [[] for _ in range(10001)]\n",
    "    for w in words:\n",
    "        word_list[len(w)].append(w)\n",
    "        word_reverse_list[len(w)].append(w[::-1])\n",
    "\n",
    "    for i in range(10001):    \n",
    "        word_list[i].sort()\n",
    "        word_reverse_list[i].sort()\n",
    "    \n",
    "    answer = []\n",
    "    \n",
    "    for q in queries:\n",
    "        count = 0\n",
    "        #접두사\n",
    "        if q[0] == '?' and q[-1] != '?':\n",
    "            count = count_by_value(word_reverse_list[len(q)], q[::-1].replace('?','a'), q[::-1].replace('?','z'))\n",
    "        \n",
    "        #접미사\n",
    "        elif q[0] != '?' and q[-1] == '?':\n",
    "            count = count_by_value(word_list[len(q)],q.replace('?','a'), q.replace('?','z'))  \n",
    "            \n",
    "        #????? 길이가 x이면 모두 가능한 경우\n",
    "        elif q[0] == '?' and q[-1] == '?':\n",
    "            count = len(word_list[len(q)])\n",
    "        \n",
    "        answer.append(count)\n",
    "        \n",
    "    return answer"
   ]
  },
  {
   "cell_type": "code",
   "execution_count": 21,
   "metadata": {},
   "outputs": [
    {
     "data": {
      "text/plain": [
       "[3, 2, 4, 1, 0]"
      ]
     },
     "execution_count": 21,
     "metadata": {},
     "output_type": "execute_result"
    }
   ],
   "source": [
    "solution([\"frodo\", \"front\", \"frost\", \"frozen\", \"frame\", \"kakao\"], [\"fro??\", \"????o\", \"fr???\", \"fro???\", \"pro?\"] )"
   ]
  },
  {
   "cell_type": "code",
   "execution_count": null,
   "metadata": {},
   "outputs": [],
   "source": []
  }
 ],
 "metadata": {
  "kernelspec": {
   "display_name": "Python 3",
   "language": "python",
   "name": "python3"
  },
  "language_info": {
   "codemirror_mode": {
    "name": "ipython",
    "version": 3
   },
   "file_extension": ".py",
   "mimetype": "text/x-python",
   "name": "python",
   "nbconvert_exporter": "python",
   "pygments_lexer": "ipython3",
   "version": "3.8.3"
  }
 },
 "nbformat": 4,
 "nbformat_minor": 4
}
