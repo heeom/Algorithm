{
 "cells": [
  {
   "cell_type": "code",
   "execution_count": 4,
   "metadata": {},
   "outputs": [],
   "source": [
    "# 재귀함수로 구현한 이진탐색\n",
    "\n",
    "def binary_search(array, target, start, end):\n",
    "    if start > end :\n",
    "        return None \n",
    "    mid = (start+end) // 2\n",
    "    \n",
    "    if array[mid] == target:\n",
    "        return mid\n",
    "    elif array[mid] > target:\n",
    "        return binary_search(array, target, start, mid-1)\n",
    "    else:\n",
    "        return binary_search(array, target, mid+1, end)\n",
    "    \n",
    "    "
   ]
  },
  {
   "cell_type": "code",
   "execution_count": 5,
   "metadata": {},
   "outputs": [
    {
     "name": "stdout",
     "output_type": "stream",
     "text": [
      "10 7\n",
      "1 3 5 7 9 11 15 17 19\n",
      "3 7\n"
     ]
    }
   ],
   "source": [
    "n, target = map(int, input().split())\n",
    "array = list(map(int, input().split()))\n",
    "result = binary_search(array, target, 0, n-1)\n",
    "    \n",
    "if result == None:\n",
    "    print('원소 존재하지 않음')\n",
    "else:\n",
    "    print(result, array[result])"
   ]
  },
  {
   "cell_type": "code",
   "execution_count": 6,
   "metadata": {},
   "outputs": [],
   "source": [
    "#반복문으로 구현한 이진탐색\n",
    "\n",
    "def binary_search_2(array, target, start, end):\n",
    "    while start <= end:\n",
    "        mid = (start+end) // 2\n",
    "        \n",
    "        if array[mid] == target:\n",
    "            return mid\n",
    "        elif array[mid] > target:\n",
    "            end = mid - 1\n",
    "        else:\n",
    "            sart = mid + 1\n",
    "    return None\n",
    "\n"
   ]
  },
  {
   "cell_type": "code",
   "execution_count": 7,
   "metadata": {},
   "outputs": [
    {
     "name": "stdout",
     "output_type": "stream",
     "text": [
      "10 7\n",
      "1 3 5 7 9 11 15 17 19\n",
      "3 7\n"
     ]
    }
   ],
   "source": [
    "n, target = map(int, input().split())\n",
    "array = list(map(int, input().split()))\n",
    "result = binary_search(array, target, 0, n-1)\n",
    "    \n",
    "if result == None:\n",
    "    print('원소 존재하지 않음')\n",
    "else:\n",
    "    print(result, array[result])"
   ]
  },
  {
   "cell_type": "code",
   "execution_count": null,
   "metadata": {},
   "outputs": [],
   "source": []
  }
 ],
 "metadata": {
  "kernelspec": {
   "display_name": "Python 3",
   "language": "python",
   "name": "python3"
  },
  "language_info": {
   "codemirror_mode": {
    "name": "ipython",
    "version": 3
   },
   "file_extension": ".py",
   "mimetype": "text/x-python",
   "name": "python",
   "nbconvert_exporter": "python",
   "pygments_lexer": "ipython3",
   "version": "3.8.3"
  }
 },
 "nbformat": 4,
 "nbformat_minor": 4
}
