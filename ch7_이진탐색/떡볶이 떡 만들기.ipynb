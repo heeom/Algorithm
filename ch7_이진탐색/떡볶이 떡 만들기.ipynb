{
 "cells": [
  {
   "cell_type": "code",
   "execution_count": 1,
   "metadata": {},
   "outputs": [
    {
     "name": "stdout",
     "output_type": "stream",
     "text": [
      "4 6\n",
      "19 15 10 17\n",
      "15\n"
     ]
    }
   ],
   "source": [
    "n, m = map(int, input().split())\n",
    "\n",
    "array = list(map(int, input().split()))\n",
    "\n",
    "mid = (max(array) + min(array)) // 2\n",
    "total = 0\n",
    "\n",
    "while True:\n",
    "    for i in array:\n",
    "        if i > mid:\n",
    "            total += (i-mid)\n",
    "    if total == m:\n",
    "        print(mid)\n",
    "        break\n",
    "    elif total > m:\n",
    "        mid += 1\n",
    "    else:\n",
    "        mid -= 1\n",
    "    total = 0"
   ]
  },
  {
   "cell_type": "code",
   "execution_count": null,
   "metadata": {},
   "outputs": [],
   "source": []
  }
 ],
 "metadata": {
  "kernelspec": {
   "display_name": "Python 3",
   "language": "python",
   "name": "python3"
  },
  "language_info": {
   "codemirror_mode": {
    "name": "ipython",
    "version": 3
   },
   "file_extension": ".py",
   "mimetype": "text/x-python",
   "name": "python",
   "nbconvert_exporter": "python",
   "pygments_lexer": "ipython3",
   "version": "3.8.3"
  }
 },
 "nbformat": 4,
 "nbformat_minor": 4
}
