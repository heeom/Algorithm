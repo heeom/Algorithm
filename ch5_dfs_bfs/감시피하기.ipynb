{
 "cells": [
  {
   "cell_type": "code",
   "execution_count": null,
   "metadata": {},
   "outputs": [],
   "source": [
    "# if Rt == Rs :\n",
    "# if Rt < Ro < Rs or Rs < Ro < Rt true else false\n",
    "# 벽 놓기 -> dfs or bfs\n",
    "import copy \n",
    "n = int(input())\n",
    "graph = []\n",
    "student = []\n",
    "for i in range(n):\n",
    "    graph.append(list(input()))\n",
    "    for j in range(n):\n",
    "        if graph[i][j] == 'S':\n",
    "            student.append((i,j))\n",
    "            \n",
    "def find(corridor):\n",
    "    for s in student:\n",
    "        r,c = s\n",
    "        hide = ''\n",
    "        #가로 확인\n",
    "        for i in range(n):\n",
    "            if corridor[s][i] != 'X':\n",
    "                hide += corridor[s][i]\n",
    "        if 'ST' in hide or 'TS' in hide:\n",
    "            return False\n",
    "        \n",
    "        hide = ''\n",
    "        #세로 확인\n",
    "        for i in range(n):\n",
    "            if corridor[i][c] != 'X':\n",
    "                hide += corridor[i][c]\n",
    "        if 'ST' in hide or 'TS' in hide:\n",
    "            return False\n",
    "    return True\n",
    "\n",
    "# 벽 세우기\n",
    "def dfs(count):\n",
    "    global obs, answer\n",
    "    if count == 3:\n",
    "        tmp = copy.deepcopy(graph)\n",
    "        for r, c in obs:\n",
    "            tmp[r][c] = 'O'\n",
    "        if find(tmp):\n",
    "            return \n",
    "        \n",
    "        \n",
    "    for i in range(n):\n",
    "        for j in range(n):\n",
    "            if graph[i][j] == 'X':\n",
    "                obs.append((i, j))\n",
    "                count += 1\n",
    "                dfs(count)\n",
    "                count -= 1\n",
    "                obs.pop()"
   ]
  },
  {
   "cell_type": "code",
   "execution_count": 17,
   "metadata": {},
   "outputs": [
    {
     "name": "stdout",
     "output_type": "stream",
     "text": [
      "4\n",
      "S S S T\n",
      "X X X X\n",
      "X X X X\n",
      "T T T X\n",
      "NO\n"
     ]
    }
   ],
   "source": [
    "from itertools import combinations\n",
    "import copy\n",
    "\n",
    "n = int(input())\n",
    "graph = []\n",
    "student = []\n",
    "obs = []\n",
    "for i in range(n):\n",
    "    graph.append(list(input().split(' ')))\n",
    "    for j in range(n):\n",
    "        if graph[i][j] == 'S':\n",
    "            student.append((i, j))\n",
    "        elif graph[i][j] == 'X':\n",
    "            obs.append((i, j))\n",
    "            \n",
    "def find(corrider):\n",
    "    for s in student:\n",
    "        r,c = s\n",
    "        #가로 확인\n",
    "        hide = ''\n",
    "        for i in range(n):\n",
    "            if corrider[r][i] != 'X':\n",
    "                hide += corrider[r][i]\n",
    "        if 'ST' in hide or 'TS' in hide:\n",
    "            return False\n",
    "        \n",
    "        #세로 확인\n",
    "        hide = ''\n",
    "        for i in range(n):\n",
    "            if corrider[i][c] != 'X':\n",
    "                hide += corrider[i][c]\n",
    "        if 'ST' in hide or 'TS' in hide:\n",
    "            return False\n",
    "    return True\n",
    "\n",
    "obstacles = list(combinations(obs, 3))\n",
    "answer = 'NO'\n",
    "for obstacle in obstacles:\n",
    "    tmp = copy.deepcopy(graph)\n",
    "    for ro, co in obstacle:\n",
    "        tmp[ro][co] = 'O'\n",
    "    if find(tmp):\n",
    "        answer = 'YES'\n",
    "        break\n",
    "        \n",
    "print(answer)\n"
   ]
  },
  {
   "cell_type": "code",
   "execution_count": 8,
   "metadata": {},
   "outputs": [
    {
     "name": "stdout",
     "output_type": "stream",
     "text": [
      "X S X X T\n"
     ]
    },
    {
     "data": {
      "text/plain": [
       "['X', 'S', 'X', 'X', 'T']"
      ]
     },
     "execution_count": 8,
     "metadata": {},
     "output_type": "execute_result"
    }
   ],
   "source": [
    "list(input().split(' '))"
   ]
  }
 ],
 "metadata": {
  "kernelspec": {
   "display_name": "Python 3",
   "language": "python",
   "name": "python3"
  },
  "language_info": {
   "codemirror_mode": {
    "name": "ipython",
    "version": 3
   },
   "file_extension": ".py",
   "mimetype": "text/x-python",
   "name": "python",
   "nbconvert_exporter": "python",
   "pygments_lexer": "ipython3",
   "version": "3.8.3"
  }
 },
 "nbformat": 4,
 "nbformat_minor": 4
}
