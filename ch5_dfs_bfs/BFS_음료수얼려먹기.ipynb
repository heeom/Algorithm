{
 "cells": [
  {
   "cell_type": "code",
   "execution_count": 6,
   "metadata": {},
   "outputs": [
    {
     "name": "stdout",
     "output_type": "stream",
     "text": [
      "4 5\n",
      "00110\n",
      "00011\n",
      "11111\n",
      "00000\n",
      "0 0\n",
      "0 4\n",
      "3 0\n",
      "3\n"
     ]
    }
   ],
   "source": [
    "from collections import deque\n",
    "\n",
    "def BFS(i, j):\n",
    "    directions = [(-1,0),(1,0),(0,-1),(0,1)]\n",
    "    q = deque([(i,j)])\n",
    "    visited[i][j] = 1\n",
    "    while q:\n",
    "        now = q.popleft()\n",
    "        for n, m in directions:\n",
    "            nn, nm = now[0] + n, now[1] + m\n",
    "            if nn>=0 and nn<N and nm>=0 and nm<M:\n",
    "                if graph[nn][nm] == 0 and visited[nn][nm] == 0:\n",
    "                    visited[nn][nm] = 1\n",
    "                    q.append((nn,nm))\n",
    "\n",
    "                \n",
    "N, M = map(int, input().split())\n",
    "graph = []\n",
    "for _ in range(N):\n",
    "    graph.append(list(map(int,input())))\n",
    "    \n",
    "visited = [[0]*M for _ in range(N)]\n",
    "count = 0\n",
    "for i in range(N) :\n",
    "    for j in range(M):\n",
    "        if graph[i][j] == 0 and visited[i][j] == 0:\n",
    "            print(i, j)\n",
    "            BFS(i, j)\n",
    "            count += 1\n",
    "            \n",
    "print(count)"
   ]
  },
  {
   "cell_type": "code",
   "execution_count": 7,
   "metadata": {},
   "outputs": [
    {
     "name": "stdout",
     "output_type": "stream",
     "text": [
      "4 5\n",
      "00110\n",
      "00011\n",
      "11111\n",
      "00000\n",
      "3\n"
     ]
    }
   ],
   "source": [
    "# DFS 풀이\n",
    "\n",
    "n, m = map(int, input().split())\n",
    "\n",
    "graph = []\n",
    "for i in range(n):\n",
    "    graph.append(list(map(int, input())))\n",
    "    \n",
    "def dfs(x, y):\n",
    "    if x<=-1 or x>=n or y<=-1 or y>=m:\n",
    "        return False\n",
    "    if graph[x][y] == 0:\n",
    "        graph[x][y] = 1\n",
    "        \n",
    "        dfs(x-1, y)\n",
    "        dfs(x+1, y)\n",
    "        dfs(x, y-1)\n",
    "        dfs(x, y+1)\n",
    "        return True\n",
    "    return False\n",
    "\n",
    "result = 0\n",
    "for i in range(n):\n",
    "    for j in range(m):\n",
    "        if dfs(i, j) == True:\n",
    "            result += 1\n",
    "            \n",
    "print(result)"
   ]
  },
  {
   "cell_type": "code",
   "execution_count": null,
   "metadata": {},
   "outputs": [],
   "source": []
  }
 ],
 "metadata": {
  "kernelspec": {
   "display_name": "Python 3",
   "language": "python",
   "name": "python3"
  },
  "language_info": {
   "codemirror_mode": {
    "name": "ipython",
    "version": 3
   },
   "file_extension": ".py",
   "mimetype": "text/x-python",
   "name": "python",
   "nbconvert_exporter": "python",
   "pygments_lexer": "ipython3",
   "version": "3.8.3"
  }
 },
 "nbformat": 4,
 "nbformat_minor": 4
}
