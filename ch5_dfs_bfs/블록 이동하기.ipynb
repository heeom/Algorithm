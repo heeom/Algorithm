{
 "cells": [
  {
   "cell_type": "code",
   "execution_count": 5,
   "metadata": {},
   "outputs": [],
   "source": [
    "from collections import deque\n",
    "\n",
    "def get_next_location(now_location, graph):\n",
    "    #now == 집합 -> 리스트로 변환\n",
    "    locations = []\n",
    "    now = list(now_location)\n",
    "    r1_r, r1_c = now[0][0], now[0][1]\n",
    "    r2_r, r2_c = now[1][0], now[1][1]\n",
    "    #1. 상하좌우이동\n",
    "    nd = [(-1,0),(1,0),(0,-1),(0,1)]\n",
    "    for i in range(4):\n",
    "        nr1_r, nr1_c = r1_r + nd[i][0], r1_c + nd[i][1]\n",
    "        nr2_r, nr2_c = r2_r + nd[i][0], r2_c + nd[i][1]\n",
    "        if graph[nr1_r][nr1_c] == 0 and graph[nr2_r][nr2_c]==0:\n",
    "            locations.append({(nr1_r, nr1_c), (nr2_r, nr2_c)})\n",
    "    #2.회전\n",
    "    #2-1가로로 놓여있는 경우\n",
    "    if r1_r == r2_r:\n",
    "        for i in [1,-1]: #아래, 위로 회전\n",
    "            if graph[r1_r+i][r1_c] == 0 and graph[r2_r+i][r2_c] == 0:\n",
    "                locations.append({(r1_r,r1_c),(r1_r+i,r1_c)})\n",
    "                locations.append({(r2_r,r2_c),(r2_r+i,r2_c)})\n",
    "    #2-2 세로로 놓여있는 경우\n",
    "    if r1_c == r2_c:\n",
    "        for i in [1, -1]: #좌, 우로 회전\n",
    "            if graph[r1_r][r1_c+i] == 0 and graph[r2_r][r2_c+i] == 0:\n",
    "                locations.append({(r1_r,r1_c),(r1_r,r1_c+i)})\n",
    "                locations.append({(r2_r,r2_c),(r2_r,r2_c+i)})\n",
    "    return locations\n",
    "                \n",
    "def solution(board):\n",
    "    n = len(board)\n",
    "    #가로, 세로 0 한 줄 씩 더 두르기\n",
    "    new_board = [[1]*(n+2) for _ in range(n+2)]\n",
    "    for i in range(n):\n",
    "        for j in range(n):\n",
    "            new_board[i+1][j+1] = board[i][j]\n",
    "    #bfs\n",
    "    q = deque()\n",
    "    visited = []\n",
    "    now = {(1,1),(1,2)}\n",
    "    q.append((now,0))\n",
    "    visited.append(now)\n",
    "    \n",
    "    while q:\n",
    "        now, count = q.popleft()\n",
    "        if (n,n) in now: #n,n에 도달했다면 걸린 시간 반환\n",
    "            return count\n",
    "        for next_location in get_next_location(now, new_board):\n",
    "            if next_location not in visited:\n",
    "                q.append((next_location, count+1))\n",
    "                visited.append(next_location)\n",
    "    \n",
    "                         "
   ]
  },
  {
   "cell_type": "code",
   "execution_count": 6,
   "metadata": {},
   "outputs": [
    {
     "name": "stdout",
     "output_type": "stream",
     "text": [
      "7\n"
     ]
    }
   ],
   "source": [
    "print(solution([[0, 0, 0, 1, 1],[0, 0, 0, 1, 0],[0, 1, 0, 1, 1],[1, 1, 0, 0, 1],[0, 0, 0, 0, 0]]))"
   ]
  },
  {
   "cell_type": "code",
   "execution_count": null,
   "metadata": {},
   "outputs": [],
   "source": []
  }
 ],
 "metadata": {
  "kernelspec": {
   "display_name": "Python 3",
   "language": "python",
   "name": "python3"
  },
  "language_info": {
   "codemirror_mode": {
    "name": "ipython",
    "version": 3
   },
   "file_extension": ".py",
   "mimetype": "text/x-python",
   "name": "python",
   "nbconvert_exporter": "python",
   "pygments_lexer": "ipython3",
   "version": "3.8.3"
  }
 },
 "nbformat": 4,
 "nbformat_minor": 4
}
