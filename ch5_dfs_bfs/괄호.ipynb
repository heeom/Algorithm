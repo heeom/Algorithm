{
 "cells": [
  {
   "cell_type": "code",
   "execution_count": 6,
   "metadata": {},
   "outputs": [],
   "source": [
    "def split_to_proper_word(word):\n",
    "    count = 0\n",
    "    for i in range(len(word)):\n",
    "        if word[i] == '(':\n",
    "            count +=1\n",
    "        else:\n",
    "            count -= 1\n",
    "        \n",
    "        if count == 0:\n",
    "            return i\n",
    "    \n",
    "\n",
    "def check_proper(word):\n",
    "    count = 0\n",
    "    for i in range(len(word)):\n",
    "        if word[i] == '(':\n",
    "            count += 1\n",
    "        else:\n",
    "            if count == 0:\n",
    "                return False\n",
    "            count -= 1\n",
    "    return True    \n",
    "    \n",
    "def solution(word):\n",
    "    answer = ''\n",
    "    if word == '':\n",
    "        return answer\n",
    "    idx = split_to_proper_word(word)\n",
    "    u = word[:idx+1]\n",
    "    v = word[idx+1:]\n",
    "    \n",
    "    if check_proper(u):\n",
    "        answer = u + solution(v)\n",
    "    else:\n",
    "        answer = '('\n",
    "        answer += solution(v)\n",
    "        answer += ')'\n",
    "        u = list(u[1:-1])\n",
    "        for i in range(len(u)):\n",
    "            if u[i] == '(':\n",
    "                u[i] = ')'\n",
    "            else:\n",
    "                u[i] = '('\n",
    "        answer += ''.join(u)\n",
    "    return answer"
   ]
  },
  {
   "cell_type": "code",
   "execution_count": null,
   "metadata": {},
   "outputs": [],
   "source": []
  }
 ],
 "metadata": {
  "kernelspec": {
   "display_name": "Python 3",
   "language": "python",
   "name": "python3"
  },
  "language_info": {
   "codemirror_mode": {
    "name": "ipython",
    "version": 3
   },
   "file_extension": ".py",
   "mimetype": "text/x-python",
   "name": "python",
   "nbconvert_exporter": "python",
   "pygments_lexer": "ipython3",
   "version": "3.8.3"
  }
 },
 "nbformat": 4,
 "nbformat_minor": 4
}
