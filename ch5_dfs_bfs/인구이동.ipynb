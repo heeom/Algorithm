{
 "cells": [
  {
   "cell_type": "code",
   "execution_count": 18,
   "metadata": {},
   "outputs": [
    {
     "name": "stdout",
     "output_type": "stream",
     "text": [
      "4 10 50\n",
      "10 100 20 90  \n",
      "80 100 60 70  \n",
      "70 20 30 40  \n",
      "50 20 100 10\n",
      "8\n"
     ]
    }
   ],
   "source": [
    "from collections import deque\n",
    "\n",
    "n, L, R = map(int, input().split())\n",
    "\n",
    "graph = []\n",
    "for _ in range(n):\n",
    "    graph.append(list(map(int, input().split())))\n",
    "    \n",
    "dx = [-1, 0, 1, 0]\n",
    "dy = [0, -1, 0, 1]\n",
    "\n",
    "result = 0\n",
    "\n",
    "def process(x, y, index):\n",
    "    united = []\n",
    "    united.append((x, y))\n",
    "    q = deque()\n",
    "    q.append((x, y))\n",
    "    union[x][y] = index\n",
    "    summary = graph[x][y] # 현재 연합의 전체 인구 수 \n",
    "    count = 1 # 현재 연합의 국가 수\n",
    "    \n",
    "    while q:\n",
    "        x, y = q.popleft()\n",
    "        for i in range(4):\n",
    "            nx = x + dx[i]\n",
    "            ny = y + dy[i]\n",
    "            # 바로 옆에 있는 나라를 확인\n",
    "            if 0 <= nx < n and 0 < ny < n and union[nx][ny] == -1:\n",
    "                if L<= abs(graph[nx][ny] - graph[x][y]) <= R:\n",
    "                    q.append((nx, ny))\n",
    "                    union[nx][ny] = index\n",
    "                    summary += graph[nx][ny]\n",
    "                    count += 1\n",
    "                    united.append((nx, ny))\n",
    "    for i, j in united:\n",
    "        graph[i][j] = summary // count\n",
    "    return count\n",
    "\n",
    "total_count = 0\n",
    "\n",
    "while True :\n",
    "    union = [[-1]*n for _ in range(n)]\n",
    "    index = 0\n",
    "    for i in range(n):\n",
    "        for j in range(n):\n",
    "            if union[i][j] == -1:\n",
    "                process(i, j, index)\n",
    "                index += 1\n",
    "    if index == n*n:\n",
    "        break\n",
    "    total_count += 1\n",
    "    \n",
    "print(total_count)"
   ]
  },
  {
   "cell_type": "code",
   "execution_count": 21,
   "metadata": {},
   "outputs": [
    {
     "name": "stdout",
     "output_type": "stream",
     "text": [
      "2 20 50\n",
      "50 30\n",
      "30 40\n",
      "1\n"
     ]
    }
   ],
   "source": [
    "from collections import deque\n",
    "\n",
    "n, L, R = map(int, input().split())\n",
    "graph = []\n",
    "visited = [[0] * n for _ in range(n)]\n",
    "for _ in range(n):\n",
    "    graph.append(list(map(int, input().split())))\n",
    "\n",
    "def bfs(i, j):\n",
    "    q = deque([(i,j)])\n",
    "    union = []\n",
    "    directions = [(-1,0), (1,0), (0,-1), (0,1)]\n",
    "    while q:\n",
    "        now = q.popleft()\n",
    "        for nd in directions:\n",
    "            ni = now[0]+nd[0]\n",
    "            nj = now[1]+nd[1]\n",
    "            if ni>=0 and ni<n and nj>=0 and nj<n:\n",
    "                diff = abs(graph[now[0]][now[1]] - graph[ni][nj])\n",
    "                if visited[ni][nj] == 0 and L <= diff <= R:\n",
    "                    union.append((ni, nj))\n",
    "                    q.append((ni, nj))\n",
    "                    visited[ni][nj] = 1\n",
    "    return union\n",
    "\n",
    "def union_country(united):\n",
    "    united_count = len(united)\n",
    "    total_region = 0\n",
    "    for r, c in united:\n",
    "        total_region += graph[r][c]\n",
    "        \n",
    "    united_region = int(total_region / united_count)\n",
    "    for r, c in united:\n",
    "        graph[r][c] = united_region\n",
    "\n",
    "move = 0\n",
    "while True:\n",
    "    visited = [[0]* n for _ in range(n)]\n",
    "    check = False\n",
    "    for i in range(n):\n",
    "        for j in range(n):\n",
    "            if visited[i][j] == 0:\n",
    "                united = bfs(i,j)\n",
    "                if len(united) > 1:\n",
    "                    union_country(united)\n",
    "                    check = True\n",
    "    if not check:\n",
    "        break\n",
    "    move += 1\n",
    "\n",
    "print(move)"
   ]
  },
  {
   "cell_type": "code",
   "execution_count": null,
   "metadata": {},
   "outputs": [],
   "source": []
  },
  {
   "cell_type": "code",
   "execution_count": null,
   "metadata": {},
   "outputs": [],
   "source": []
  }
 ],
 "metadata": {
  "kernelspec": {
   "display_name": "Python 3",
   "language": "python",
   "name": "python3"
  },
  "language_info": {
   "codemirror_mode": {
    "name": "ipython",
    "version": 3
   },
   "file_extension": ".py",
   "mimetype": "text/x-python",
   "name": "python",
   "nbconvert_exporter": "python",
   "pygments_lexer": "ipython3",
   "version": "3.8.3"
  }
 },
 "nbformat": 4,
 "nbformat_minor": 4
}
