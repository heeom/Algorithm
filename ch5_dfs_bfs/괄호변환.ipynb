{
 "cells": [
  {
   "cell_type": "code",
   "execution_count": null,
   "metadata": {},
   "outputs": [],
   "source": [
    "def equal(word):\n",
    "    count = 0\n",
    "    for i in range(len(word)):\n",
    "        if word[i] == '(':\n",
    "            count += 1\n",
    "        else:\n",
    "            count -= 1\n",
    "        if count == 0:\n",
    "        return i\n",
    "\n",
    "def same(word):\n",
    "    count = 0\n",
    "    for i in range(len(word)):\n",
    "        if word[i] == ')':\n",
    "            count +=1\n",
    "        else:\n",
    "            count -= 1\n",
    "        if count < 0:\n",
    "            return False\n",
    "    return True\n",
    "\n",
    "def solution(p):\n",
    "    answer = ''\n",
    "    \n",
    "    if p == '':\n",
    "        return answer\n",
    "    index = equal(p)\n",
    "    u = p[:index+1]\n",
    "    v = p[index+1:]\n",
    "    \n",
    "    if same(u):\n",
    "        answer = u + solution(v)\n",
    "    else:\n",
    "        answer = '('\n",
    "        answer += solution(v)\n",
    "        answer += ')'\n",
    "        u = list(u[1:-1])\n",
    "        for i in range(len(u)):\n",
    "            if u[i] == '(':\n",
    "                u[i] = ')':\n",
    "            else:\n",
    "                u[i] = '('\n",
    "                \n",
    "        answer += ''.join(u)\n",
    "    return answer"
   ]
  }
 ],
 "metadata": {
  "kernelspec": {
   "display_name": "Python 3",
   "language": "python",
   "name": "python3"
  },
  "language_info": {
   "codemirror_mode": {
    "name": "ipython",
    "version": 3
   },
   "file_extension": ".py",
   "mimetype": "text/x-python",
   "name": "python",
   "nbconvert_exporter": "python",
   "pygments_lexer": "ipython3",
   "version": "3.8.3"
  }
 },
 "nbformat": 4,
 "nbformat_minor": 4
}
