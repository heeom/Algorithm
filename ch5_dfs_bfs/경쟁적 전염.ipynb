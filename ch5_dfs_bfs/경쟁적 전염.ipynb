{
 "cells": [
  {
   "cell_type": "code",
   "execution_count": 7,
   "metadata": {},
   "outputs": [
    {
     "name": "stdout",
     "output_type": "stream",
     "text": [
      "3 3\n",
      "1 0 2\n",
      "0 0 0\n",
      "3 0 0\n",
      "1 2 2\n",
      "0\n"
     ]
    }
   ],
   "source": [
    "graph = []\n",
    "n, k = map(int, input().split())\n",
    "for _ in range(n):\n",
    "    graph.append(list(map(int, input().split())))\n",
    "    \n",
    "s, x, y = map(int, input().split())\n",
    "\n",
    "def virus(num):\n",
    "    nd = [(-1,0),(1,0),(0,-1),(0,1)]\n",
    "    for i in range(n):\n",
    "        for j in range(n):\n",
    "            if graph[i][j] == num:\n",
    "                for l in range(4):\n",
    "                    nx = i+nd[l][0]\n",
    "                    ny = i+nd[l][1]\n",
    "                    if nx >= 0 and nx < n and ny >=0 and ny < n:\n",
    "                        graph[nx][ny] = num\n",
    "        \n",
    "for _ in range(s):\n",
    "    for i in range(1,k+1):\n",
    "        virus(i)\n",
    "        \n",
    "print(graph[x-1][y-1]) if graph[x-1][y-1] != 0 else print(0)"
   ]
  },
  {
   "cell_type": "code",
   "execution_count": 16,
   "metadata": {},
   "outputs": [
    {
     "name": "stdout",
     "output_type": "stream",
     "text": [
      "3 3\n",
      "1 0 2 \n",
      "0 0 0 \n",
      "3 0 0 \n",
      "2 3 2\n",
      "3\n"
     ]
    }
   ],
   "source": [
    "# 바이러스가 있는 부분만 check\n",
    "# deque로 q를 구현한다\n",
    "from collections import deque\n",
    "\n",
    "graph = []\n",
    "n, k = map(int, input().split())\n",
    "virus = []\n",
    "for i in range(n):\n",
    "    array = list(map(int, input().split()))\n",
    "    graph.append(array)\n",
    "    for j in range(n):\n",
    "        if array[j] != 0:\n",
    "            virus.append((array[j], 0, i, j)) #virus 종류, 시간, 좌표\n",
    "\n",
    "s, r, c = map(int, input().split())\n",
    "\n",
    "nd = [(-1,0),(1,0),(0,-1),(0,1)]\n",
    "\n",
    "#숫자가 작은 virus부터 전염\n",
    "virus.sort()\n",
    "virus = deque(virus)\n",
    "while virus:\n",
    "    v, sec, x, y = virus.popleft()\n",
    "    \n",
    "    if sec == s:\n",
    "        break\n",
    "        \n",
    "    for i in range(4):\n",
    "        nx = x + nd[i][0]\n",
    "        ny = y + nd[i][1]\n",
    "        if nx >= 0 and nx < n and ny >= 0 and ny < n:\n",
    "            if graph[nx][ny] == 0:\n",
    "                graph[nx][ny] = v\n",
    "                virus.append((v, sec+1, nx, ny))\n",
    "    \n",
    "    \n",
    "print(graph[r-1][c-1])                    "
   ]
  },
  {
   "cell_type": "code",
   "execution_count": 15,
   "metadata": {},
   "outputs": [
    {
     "data": {
      "text/plain": [
       "[[1, 1, 2], [1, 1, 2], [3, 3, 2]]"
      ]
     },
     "execution_count": 15,
     "metadata": {},
     "output_type": "execute_result"
    }
   ],
   "source": [
    "graph"
   ]
  },
  {
   "cell_type": "code",
   "execution_count": null,
   "metadata": {},
   "outputs": [],
   "source": [
    "print(graph[r-1][])"
   ]
  }
 ],
 "metadata": {
  "kernelspec": {
   "display_name": "Python 3",
   "language": "python",
   "name": "python3"
  },
  "language_info": {
   "codemirror_mode": {
    "name": "ipython",
    "version": 3
   },
   "file_extension": ".py",
   "mimetype": "text/x-python",
   "name": "python",
   "nbconvert_exporter": "python",
   "pygments_lexer": "ipython3",
   "version": "3.8.3"
  }
 },
 "nbformat": 4,
 "nbformat_minor": 4
}
