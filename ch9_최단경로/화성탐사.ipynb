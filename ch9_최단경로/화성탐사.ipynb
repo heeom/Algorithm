{
 "cells": [
  {
   "cell_type": "code",
   "execution_count": 6,
   "metadata": {},
   "outputs": [
    {
     "name": "stdout",
     "output_type": "stream",
     "text": [
      "3\n",
      "3\n",
      "5 5 4\n",
      "3 9 1\n",
      "3 2 7\n",
      "20\n",
      "5\n",
      "3 7 2 0 1\n",
      "2 8 0 9 1\n",
      "1 2 1 8 1\n",
      "9 8 9 2 0\n",
      "3 6 5 1 5\n",
      "19\n",
      "7\n",
      "9 0 5 1 1 5 3\n",
      "4 1 2 1 6 5 3\n",
      "0 7 6 1 6 8 5\n",
      "1 1 7 8 3 2 3\n",
      "9 4 0 7 6 4 1\n",
      "5 8 3 2 4 8 3\n",
      "7 4 8 4 8 3 4\n",
      "36\n"
     ]
    }
   ],
   "source": [
    "import heapq\n",
    "\n",
    "t = int(input())\n",
    "for _ in range(t):\n",
    "    n = int(input())\n",
    "    \n",
    "    graph = [] * n \n",
    "    \n",
    "    for _ in range(n):\n",
    "        graph.append(list(map(int, input().split())))\n",
    "\n",
    "    #     초기화\n",
    "    INF = int(1e9)    \n",
    "    distance = [[INF] * n for _ in range(n)]\n",
    "    q = []\n",
    "    heapq.heappush(q, (graph[0][0], 0, 0))\n",
    "    distance[0][0] = graph[0][0]\n",
    "\n",
    "    #     상하좌우\n",
    "    nd = [(-1,0), (1,0), (0,-1), (0,1)]\n",
    "    \n",
    "    \n",
    "    while q:\n",
    "        e, i, j = heapq.heappop(q)\n",
    "        \n",
    "        for r, c in nd:\n",
    "            nr = i+r\n",
    "            nc = j+c\n",
    "            if nr >= 0 and nr < n and nc >= 0 and nc < n:\n",
    "                d = e + graph[nr][nc]\n",
    "                if d < distance[nr][nc]:\n",
    "                    distance[nr][nc] = d\n",
    "                    heapq.heappush(q, (d, nr, nc))\n",
    "                    \n",
    "    print(distance[n-1][n-1])\n",
    "    "
   ]
  },
  {
   "cell_type": "code",
   "execution_count": 5,
   "metadata": {},
   "outputs": [
    {
     "data": {
      "text/plain": [
       "[[13, 10, 14], [8, 17, 15], [11, 13, 20]]"
      ]
     },
     "execution_count": 5,
     "metadata": {},
     "output_type": "execute_result"
    }
   ],
   "source": [
    "distance"
   ]
  },
  {
   "cell_type": "code",
   "execution_count": 4,
   "metadata": {},
   "outputs": [
    {
     "data": {
      "text/plain": [
       "[[5, 5, 4], [3, 9, 1], [3, 2, 7]]"
      ]
     },
     "execution_count": 4,
     "metadata": {},
     "output_type": "execute_result"
    }
   ],
   "source": [
    "graph"
   ]
  },
  {
   "cell_type": "code",
   "execution_count": null,
   "metadata": {},
   "outputs": [],
   "source": []
  }
 ],
 "metadata": {
  "kernelspec": {
   "display_name": "Python 3",
   "language": "python",
   "name": "python3"
  }
 },
 "nbformat": 4,
 "nbformat_minor": 4
}
