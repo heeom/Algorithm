{
 "cells": [
  {
   "cell_type": "code",
   "execution_count": 4,
   "metadata": {},
   "outputs": [
    {
     "name": "stdout",
     "output_type": "stream",
     "text": [
      "3 2 1\n",
      "1 2 4\n",
      "1 3 2\n",
      "2 4\n"
     ]
    }
   ],
   "source": [
    "import heapq\n",
    "\n",
    "N, M, C = map(int, input().split())\n",
    "\n",
    "# 초기화\n",
    "graph = [[] for _ in range(N+1)]\n",
    "INF = int(1e9)\n",
    "distance = [INF] * (N+1)\n",
    "\n",
    "for _ in range(M):\n",
    "    X, Y, Z = map(int, input().split())\n",
    "    graph[X].append((Z, Y))\n",
    "    \n",
    "q = []\n",
    "distance[C] = 0\n",
    "heapq.heappush(q, (distance[C], C))\n",
    "\n",
    "# 시간 update\n",
    "while q:\n",
    "    Z, Y = heapq.heappop(q)\n",
    "    \n",
    "    for cost, ny in graph[Y]:\n",
    "        d = Z + cost\n",
    "        if distance[ny] > d:\n",
    "            distance[ny] = d\n",
    "            heapq.heappush(q, (d, ny))\n",
    "            \n",
    "# INF가 아닌 == C에서 도달할 수 있는 도시의 개수, 총 걸리는 시간(max(distance)) 출력\n",
    "count = -1\n",
    "time = 0\n",
    "for i in range(1, N+1):\n",
    "    if distance[i] != INF:\n",
    "        count += 1 \n",
    "        if distance[i] > time :\n",
    "            time = distance[i]\n",
    "\n",
    "print(count, time)"
   ]
  },
  {
   "cell_type": "code",
   "execution_count": null,
   "metadata": {},
   "outputs": [],
   "source": []
  }
 ],
 "metadata": {
  "kernelspec": {
   "display_name": "Python 3",
   "language": "python",
   "name": "python3"
  },
  "language_info": {
   "codemirror_mode": {
    "name": "ipython",
    "version": 3
   },
   "file_extension": ".py",
   "mimetype": "text/x-python",
   "name": "python",
   "nbconvert_exporter": "python",
   "pygments_lexer": "ipython3",
   "version": "3.8.3"
  }
 },
 "nbformat": 4,
 "nbformat_minor": 4
}
