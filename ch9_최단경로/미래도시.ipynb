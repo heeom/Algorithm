{
 "cells": [
  {
   "cell_type": "code",
   "execution_count": null,
   "metadata": {},
   "outputs": [],
   "source": [
    "INF = int(1e9)\n",
    "N, M = map(int, input().split())\n",
    "\n",
    "# 초기화\n",
    "distance = [[INF]*(N+1) for _ in range(N+1)]\n",
    "\n",
    "for _ in range(M):\n",
    "    a, b = map(int, input().split())\n",
    "    distance[a][b] = 1\n",
    "    distance[b][a] = 1\n",
    "\n",
    "X, K = map(int, input().split())\n",
    "    \n",
    "for i in range(1, N+1):\n",
    "    for j in range(1, N+1):\n",
    "        if i == j:\n",
    "            distance[i][j] = 0\n",
    "\n",
    "# 최단거리 업데이트\n",
    "for t in range(1, N+1):\n",
    "    for a in range(1, N+1):\n",
    "        for b in range(1, N+1):\n",
    "            distance[a][b] = min(distance[a][b], distance[a][t] + distance[t][b])\n",
    "            \n",
    "# start -> k -> X 갈 수 없다면 print(-1)\n",
    "if distance[1][K] == INF or distance[K][X] == INF :\n",
    "    print(-1)\n",
    "else:\n",
    "    print(distance[1][K] + distance[K][X])\n",
    "    "
   ]
  },
  {
   "cell_type": "code",
   "execution_count": null,
   "metadata": {},
   "outputs": [],
   "source": [
    "# 도달할 수 있는 노드인지 판단\n",
    "d = distance[1][K] + distance[K][X]\n",
    "\n",
    "if d > INF: # INF + 1 = 1,000,000,001\n",
    "    print(-1) \n",
    "else:\n",
    "    print(d) "
   ]
  },
  {
   "cell_type": "code",
   "execution_count": 1,
   "metadata": {},
   "outputs": [
    {
     "data": {
      "text/plain": [
       "1000000001"
      ]
     },
     "execution_count": 1,
     "metadata": {},
     "output_type": "execute_result"
    }
   ],
   "source": [
    "INF = int(1e9)\n",
    "INF + 1 \n",
    "# 1000000001"
   ]
  },
  {
   "cell_type": "code",
   "execution_count": null,
   "metadata": {},
   "outputs": [],
   "source": []
  }
 ],
 "metadata": {
  "kernelspec": {
   "display_name": "Python 3",
   "language": "python",
   "name": "python3"
  },
  "language_info": {
   "codemirror_mode": {
    "name": "ipython",
    "version": 3
   },
   "file_extension": ".py",
   "mimetype": "text/x-python",
   "name": "python",
   "nbconvert_exporter": "python",
   "pygments_lexer": "ipython3",
   "version": "3.8.3"
  }
 },
 "nbformat": 4,
 "nbformat_minor": 4
}
