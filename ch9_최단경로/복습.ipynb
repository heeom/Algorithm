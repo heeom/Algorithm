{
 "cells": [
  {
   "cell_type": "code",
   "execution_count": 1,
   "metadata": {},
   "outputs": [],
   "source": [
    "graph = {\n",
    "    'A':{'B': 8,'C': 1,'D': 2 },\n",
    "    'B':{},\n",
    "    'C':{'B': 5, 'D':2 },\n",
    "    'D':{'E': 3, 'F':5 },\n",
    "    'E':{'F': 1},\n",
    "    'F':{}\n",
    "}\n",
    "\n",
    "#  간선 개수 : 8\n",
    "#  노드 개수 : 6"
   ]
  },
  {
   "cell_type": "code",
   "execution_count": 4,
   "metadata": {},
   "outputs": [
    {
     "name": "stdout",
     "output_type": "stream",
     "text": [
      "6\n",
      "8\n",
      "1 2 8 \n",
      "1 3 1 \n",
      "1 4 2 \n",
      "3 2 5 \n",
      "3 4 2 \n",
      "4 5 3 \n",
      "4 6 5 \n",
      "5 6 1\n",
      "0 6 1 2 5 6 \n",
      "INFINITY 0 INFINITY INFINITY INFINITY INFINITY \n",
      "INFINITY 5 0 2 5 6 \n",
      "INFINITY INFINITY INFINITY 0 3 4 \n",
      "INFINITY INFINITY INFINITY INFINITY 0 1 \n",
      "INFINITY INFINITY INFINITY INFINITY INFINITY 0 \n"
     ]
    }
   ],
   "source": [
    "INF = int(1e9)\n",
    "n = int(input())\n",
    "m = int(input())\n",
    "graph = [[INF] * (n+1) for _ in range(n+1)]\n",
    "\n",
    "# 자기자신으로 가는 비용 0 / graph 초기화\n",
    "for i in range(1, n+1):\n",
    "    for j in range(1, n+1):\n",
    "        if i == j:\n",
    "            graph[i][j] = 0\n",
    "            \n",
    "# a->b 한번에 가는 비용 입력\n",
    "for _ in range(m):\n",
    "    a, b, c = map(int, input().split()) #a -> b 비용 c\n",
    "    graph[a][b] = c\n",
    "    \n",
    "# a->b 바로가는 비용보다 a->k + k->b 비용이 더 작을 때 최단거리 갱신\n",
    "for k in range(1,n+1):\n",
    "    for a in range(1,n+1):\n",
    "        for b in range(1, n+1):\n",
    "            graph[a][b] = min(graph[a][b], graph[a][k] + graph[k][b])\n",
    "            \n",
    "for i in range(1, n+1):\n",
    "    for j in range(1, n+1):\n",
    "        if graph[i][j] == INF:\n",
    "            print('INFINITY', end = ' ')\n",
    "        else:\n",
    "            print(graph[i][j], end = ' ')\n",
    "    print()"
   ]
  },
  {
   "cell_type": "code",
   "execution_count": null,
   "metadata": {},
   "outputs": [],
   "source": []
  }
 ],
 "metadata": {
  "kernelspec": {
   "display_name": "Python 3",
   "language": "python",
   "name": "python3"
  },
  "language_info": {
   "codemirror_mode": {
    "name": "ipython",
    "version": 3
   },
   "file_extension": ".py",
   "mimetype": "text/x-python",
   "name": "python",
   "nbconvert_exporter": "python",
   "pygments_lexer": "ipython3",
   "version": "3.8.3"
  }
 },
 "nbformat": 4,
 "nbformat_minor": 4
}
