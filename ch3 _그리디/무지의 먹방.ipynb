{
 "cells": [
  {
   "cell_type": "code",
   "execution_count": 5,
   "metadata": {},
   "outputs": [],
   "source": [
    "from collections import deque\n",
    "\n",
    "def solution(food_times, k):\n",
    "    answer = 0\n",
    "    q = deque([])\n",
    "    for i in range(len(food_times)):\n",
    "        if food_times[i]!=0:\n",
    "            q.append(i)\n",
    "            \n",
    "    for i in range(k):\n",
    "        now = q.popleft()\n",
    "        food_times[now] -= 1\n",
    "        if food_times[now]!=0:\n",
    "            q.append(now)\n",
    "    if q:\n",
    "        answer = q.popleft()+1\n",
    "    else:\n",
    "        answer = -1\n",
    "    \n",
    "    return answer"
   ]
  },
  {
   "cell_type": "code",
   "execution_count": 6,
   "metadata": {},
   "outputs": [
    {
     "data": {
      "text/plain": [
       "1"
      ]
     },
     "execution_count": 6,
     "metadata": {},
     "output_type": "execute_result"
    }
   ],
   "source": [
    "solution([3, 1, 2],5)"
   ]
  },
  {
   "cell_type": "code",
   "execution_count": 106,
   "metadata": {},
   "outputs": [],
   "source": [
    "# 1 <= food_times의 길이 <= 2*10^5\n",
    "# 1 <= food_times의 모든 원소 <= 10^9\n",
    "# 1 <= k <= 2*10^13\n",
    "# 파이썬 1초당 연산 횟수는 10^9 (10억)번이므로 당연히 시간 초과가 발생한다.\n",
    "\n",
    "\n",
    "# heapq를 사용해서 시간이 가장 적게 걸리는 원소부터 처리하자\n",
    "import heapq\n",
    "\n",
    "def solution(food_times, k):\n",
    "    answer = 0\n",
    "    \n",
    "    if sum(food_times) <= k:\n",
    "        return -1\n",
    "    \n",
    "    \n",
    "    q = []\n",
    "    for i in range(len(food_times)):\n",
    "        heapq.heappush(q, (food_times[i], i+1))\n",
    "\n",
    "    n = len(food_times)\n",
    "    previous_time = 0 # 이전에 음식 먹는데 걸리는 시간**\n",
    "    # '시간'이므로 바로 이전에 음식을 먹는데 걸린 시간만 저장하고, 현재 음식을 먹는데 걸리는 시간에서 빼주면 된다.\n",
    "    eating_time = 0\n",
    "    \n",
    "    while (q[0][0] - previous_time) * n <= k: # heappop() 한번 하는 시간 줄일 수 있음\n",
    "        time, now = heapq.heappop(q)\n",
    "        \n",
    "        eating_time = (time - previous_time) * n # now를 먹는데 걸리는 시간*(남은 음식 수)\n",
    "        if eating_time > k:\n",
    "            break\n",
    "            \n",
    "        k -= eating_time # 전체 남은 시간에서 now음식 먹는데 걸리는 시간 빼준다\n",
    "        n -= 1 # 남은 음식 -1\n",
    "        previous_time = time\n",
    "            \n",
    "    q.sort(key = lambda x:x[1]) #음식 원래 순서대로 정렬한다.\n",
    "    answer = q[k % n][1] \n",
    "\n",
    "    \n",
    "    return answer"
   ]
  },
  {
   "cell_type": "code",
   "execution_count": 107,
   "metadata": {},
   "outputs": [
    {
     "data": {
      "text/plain": [
       "1"
      ]
     },
     "execution_count": 107,
     "metadata": {},
     "output_type": "execute_result"
    }
   ],
   "source": [
    "solution([3, 1, 2],5)"
   ]
  },
  {
   "cell_type": "code",
   "execution_count": 37,
   "metadata": {},
   "outputs": [],
   "source": [
    "l = []\n",
    "heapq.heappush(l, (1,1))\n",
    "heapq.heappush(l, (3, 0))\n",
    "heapq.heappush(l, (2, 2))\n",
    "\n",
    "# a = list(l)"
   ]
  },
  {
   "cell_type": "code",
   "execution_count": 27,
   "metadata": {},
   "outputs": [
    {
     "ename": "TypeError",
     "evalue": "'tuple' object does not support item assignment",
     "output_type": "error",
     "traceback": [
      "\u001b[1;31m---------------------------------------------------------------------------\u001b[0m",
      "\u001b[1;31mTypeError\u001b[0m                                 Traceback (most recent call last)",
      "\u001b[1;32m<ipython-input-27-6895fd490c63>\u001b[0m in \u001b[0;36m<module>\u001b[1;34m\u001b[0m\n\u001b[0;32m      1\u001b[0m \u001b[1;32mfor\u001b[0m \u001b[0mi\u001b[0m \u001b[1;32min\u001b[0m \u001b[0mrange\u001b[0m\u001b[1;33m(\u001b[0m\u001b[0mlen\u001b[0m\u001b[1;33m(\u001b[0m\u001b[0ml\u001b[0m\u001b[1;33m)\u001b[0m\u001b[1;33m)\u001b[0m\u001b[1;33m:\u001b[0m\u001b[1;33m\u001b[0m\u001b[1;33m\u001b[0m\u001b[0m\n\u001b[1;32m----> 2\u001b[1;33m     \u001b[0ml\u001b[0m\u001b[1;33m[\u001b[0m\u001b[0mi\u001b[0m\u001b[1;33m]\u001b[0m\u001b[1;33m[\u001b[0m\u001b[1;36m0\u001b[0m\u001b[1;33m]\u001b[0m \u001b[1;33m-=\u001b[0m \u001b[1;36m1\u001b[0m\u001b[1;33m\u001b[0m\u001b[1;33m\u001b[0m\u001b[0m\n\u001b[0m",
      "\u001b[1;31mTypeError\u001b[0m: 'tuple' object does not support item assignment"
     ]
    }
   ],
   "source": [
    "for i in range(len(l)):\n",
    "    l[i][0] -= 1"
   ]
  }
 ],
 "metadata": {
  "kernelspec": {
   "display_name": "Python 3",
   "language": "python",
   "name": "python3"
  },
  "language_info": {
   "codemirror_mode": {
    "name": "ipython",
    "version": 3
   },
   "file_extension": ".py",
   "mimetype": "text/x-python",
   "name": "python",
   "nbconvert_exporter": "python",
   "pygments_lexer": "ipython3",
   "version": "3.8.3"
  }
 },
 "nbformat": 4,
 "nbformat_minor": 4
}
