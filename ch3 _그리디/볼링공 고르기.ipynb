{
 "cells": [
  {
   "cell_type": "code",
   "execution_count": 2,
   "metadata": {},
   "outputs": [
    {
     "name": "stdout",
     "output_type": "stream",
     "text": [
      "8 5\n",
      "1 5 4 3 2 4 5 2\n",
      "25\n"
     ]
    }
   ],
   "source": [
    "n,m = map(int, input().split())\n",
    "basket = list(map(int, input().split()))\n",
    "\n",
    "result = 0\n",
    "for i in range(n-1):\n",
    "    for j in range(i+1, n):\n",
    "        if basket[i] != basket[j]:\n",
    "            result += 1\n",
    "            \n",
    "print(result)\n",
    "# O(n^3) 답"
   ]
  },
  {
   "cell_type": "code",
   "execution_count": 11,
   "metadata": {},
   "outputs": [
    {
     "name": "stdout",
     "output_type": "stream",
     "text": [
      "5 3\n",
      "1 2 2 3 3\n",
      "4\n",
      "result:  4\n",
      "2\n",
      "result:  8\n",
      "0\n",
      "result:  8\n"
     ]
    }
   ],
   "source": [
    "# A가 특정한 볼링공을 선택했을 때, B가 볼링공을 선택하는 경우 계산 \n",
    "# 볼링공 무게 <= 10 \n",
    "# O(2n) -> O(n)의 답\n",
    "\n",
    "n, m = map(int, input().split())\n",
    "weight = [0] * 11\n",
    "result = 0\n",
    "\n",
    "data = list(map(int,input().split()))\n",
    "for d in data:\n",
    "    weight[d] += 1\n",
    "    \n",
    "# 무게 1~m인 공 A가 먼저 선택\n",
    "for i in range(1,m+1):\n",
    "    #선택할 수 있는 공 n개에서 A가 선택한 무게를 가진 공 개수 빼기\n",
    "    n -= weight[i]\n",
    "    print(n)\n",
    "    result += weight[i] * n \n",
    "    print('result: ',result)"
   ]
  },
  {
   "cell_type": "code",
   "execution_count": 8,
   "metadata": {},
   "outputs": [
    {
     "name": "stdout",
     "output_type": "stream",
     "text": [
      "25\n"
     ]
    }
   ],
   "source": [
    "print(result)"
   ]
  },
  {
   "cell_type": "code",
   "execution_count": null,
   "metadata": {},
   "outputs": [],
   "source": []
  }
 ],
 "metadata": {
  "kernelspec": {
   "display_name": "Python 3",
   "language": "python",
   "name": "python3"
  },
  "language_info": {
   "codemirror_mode": {
    "name": "ipython",
    "version": 3
   },
   "file_extension": ".py",
   "mimetype": "text/x-python",
   "name": "python",
   "nbconvert_exporter": "python",
   "pygments_lexer": "ipython3",
   "version": "3.8.3"
  }
 },
 "nbformat": 4,
 "nbformat_minor": 4
}
