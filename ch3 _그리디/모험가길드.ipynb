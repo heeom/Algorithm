{
 "cells": [
  {
   "cell_type": "code",
   "execution_count": 1,
   "metadata": {},
   "outputs": [
    {
     "name": "stdout",
     "output_type": "stream",
     "text": [
      "5\n",
      "2 3 1 2 2\n",
      "2\n"
     ]
    }
   ],
   "source": [
    "n = int(input())\n",
    "travelers = list(map(int, input().split()))\n",
    "\n",
    "travelers.sort(reverse=True)\n",
    "num_chk = 0\n",
    "group_cnt = 0\n",
    "\n",
    "for t in range(n):\n",
    "    if num_chk == 0:\n",
    "        num_chk = travelers[t]\n",
    "    num_chk -= 1\n",
    "    if num_chk == 0:\n",
    "        group_cnt += 1\n",
    "        \n",
    "print(group_cnt)"
   ]
  },
  {
   "cell_type": "code",
   "execution_count": 3,
   "metadata": {},
   "outputs": [
    {
     "name": "stdout",
     "output_type": "stream",
     "text": [
      "5\n",
      "2 3 1 2 2\n",
      "2\n"
     ]
    }
   ],
   "source": [
    "# 최대한 많은 그룹을 결성하는 방법\n",
    "# 내가 쓴 방법은 최대한 남는사람이 적은 방법이다\n",
    "\n",
    "n = int(input())\n",
    "travelers = list(map(int, input().split()))\n",
    "travelers.sort()\n",
    "\n",
    "count = 0 # 현재 그룹에 포함된 모험가 수\n",
    "group_cnt = 0\n",
    "result = 0\n",
    "for i in travelers:\n",
    "    count += 1\n",
    "    if count >= i:\n",
    "        result += 1\n",
    "        count = 0\n",
    "print(result)"
   ]
  },
  {
   "cell_type": "code",
   "execution_count": null,
   "metadata": {},
   "outputs": [],
   "source": []
  }
 ],
 "metadata": {
  "kernelspec": {
   "display_name": "Python 3",
   "language": "python",
   "name": "python3"
  },
  "language_info": {
   "codemirror_mode": {
    "name": "ipython",
    "version": 3
   },
   "file_extension": ".py",
   "mimetype": "text/x-python",
   "name": "python",
   "nbconvert_exporter": "python",
   "pygments_lexer": "ipython3",
   "version": "3.8.3"
  }
 },
 "nbformat": 4,
 "nbformat_minor": 4
}
