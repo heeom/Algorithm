{
 "cells": [
  {
   "cell_type": "code",
   "execution_count": 2,
   "metadata": {},
   "outputs": [
    {
     "name": "stdout",
     "output_type": "stream",
     "text": [
      "2 4\n",
      "7 3 1 8\n",
      "3 3 3 4\n",
      "3\n"
     ]
    }
   ],
   "source": [
    "N, M = map(int, input().split())\n",
    "cards = []\n",
    "for _ in range(N):\n",
    "    cards.append(list(map(int, input().split())))\n",
    "    \n",
    "min_value = []\n",
    "for array in cards:\n",
    "    min_value.append(min(array))\n",
    "    \n",
    "print(max(min_value))"
   ]
  },
  {
   "cell_type": "code",
   "execution_count": 28,
   "metadata": {},
   "outputs": [
    {
     "name": "stdout",
     "output_type": "stream",
     "text": [
      "26 5\n",
      "2\n"
     ]
    }
   ],
   "source": [
    "#문제 잘 읽기,, n/k는 나누어 떨어질떄만 가능,,\n",
    "def recursive(N, result):\n",
    "    global count\n",
    "    count += 1\n",
    "    if N == 1:\n",
    "        result.append(count-1)\n",
    "        return\n",
    "    if N == 0 :\n",
    "        return\n",
    "        \n",
    "    if N > 1:\n",
    "        recursive(N-1,result)\n",
    "        count -= 1\n",
    "        recursive(N//K, result)\n",
    "        count -= 1\n",
    "        \n",
    "count = 0\n",
    "N, K = map(int, input().split())\n",
    "result = []\n",
    "recursive(N, result)\n",
    "print(min(result))"
   ]
  },
  {
   "cell_type": "code",
   "execution_count": 27,
   "metadata": {},
   "outputs": [
    {
     "name": "stdout",
     "output_type": "stream",
     "text": [
      "26 5\n",
      "25 1\n",
      "5 2\n",
      "0 4\n",
      "3\n"
     ]
    }
   ],
   "source": [
    "n, k = map(int, input().split())\n",
    "result = 0\n",
    "\n",
    "while True:\n",
    "    target = (n // k) * k\n",
    "    result += n % k\n",
    "    n= target\n",
    "    print(target, result)\n",
    "    \n",
    "    if n<k:\n",
    "        break\n",
    "    result += 1\n",
    "    n //= k\n",
    "    \n",
    "result += (n-1) #1될때까지 빼기\n",
    "print(result)"
   ]
  },
  {
   "cell_type": "code",
   "execution_count": 30,
   "metadata": {},
   "outputs": [
    {
     "name": "stdout",
     "output_type": "stream",
     "text": [
      "26 5\n",
      "3\n"
     ]
    }
   ],
   "source": [
    "n, m = map(int, input().split())\n",
    "result = 0\n",
    "\n",
    "while True:\n",
    "    target = (n//k) * k\n",
    "    result += n % k\n",
    "    n = target\n",
    "    \n",
    "    if n < k:\n",
    "        break\n",
    "    n //= k\n",
    "    result += 1\n",
    "    \n",
    "    \n",
    "result += n-1\n",
    "print(result)"
   ]
  },
  {
   "cell_type": "code",
   "execution_count": null,
   "metadata": {},
   "outputs": [],
   "source": []
  }
 ],
 "metadata": {
  "kernelspec": {
   "display_name": "Python 3",
   "language": "python",
   "name": "python3"
  },
  "language_info": {
   "codemirror_mode": {
    "name": "ipython",
    "version": 3
   },
   "file_extension": ".py",
   "mimetype": "text/x-python",
   "name": "python",
   "nbconvert_exporter": "python",
   "pygments_lexer": "ipython3",
   "version": "3.8.3"
  }
 },
 "nbformat": 4,
 "nbformat_minor": 4
}
