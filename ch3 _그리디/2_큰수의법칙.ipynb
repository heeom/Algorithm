{
 "cells": [
  {
   "cell_type": "code",
   "execution_count": 10,
   "metadata": {},
   "outputs": [
    {
     "name": "stdout",
     "output_type": "stream",
     "text": [
      "5 7 2\n",
      "3 4 3 4 3\n",
      "28\n"
     ]
    }
   ],
   "source": [
    "# [2,4,5,4,6]\n",
    "# [6,5,4,4,2]\n",
    "# m = 8 번 더하여\n",
    "# 같은 수 연속해서 k = 3 번 초과하여 더해질 수 없다.\n",
    "\n",
    "N, M, K = map(int, input().split())\n",
    "array = list(map(int, input().split()))\n",
    "array.sort(reverse = True)\n",
    "a1, a2 = array[0], array[1]\n",
    "result = 0\n",
    "\n",
    "while M > 0:\n",
    "    for _ in range(K):\n",
    "        if M > 0:\n",
    "            result += a1\n",
    "            M -= 1\n",
    "    if M > 0:\n",
    "        result += a2\n",
    "        M -= 1\n",
    "\n",
    "print(result)"
   ]
  },
  {
   "cell_type": "code",
   "execution_count": 11,
   "metadata": {},
   "outputs": [
    {
     "name": "stdout",
     "output_type": "stream",
     "text": [
      "5 7 2\n",
      "3 4 3 4 3\n",
      "28\n"
     ]
    }
   ],
   "source": [
    "N, M, K = map(int, input().split())\n",
    "array = list(map(int, input().split()))\n",
    "array.sort(reverse = True)\n",
    "a1, a2 = array[0], array[1]\n",
    "result = 0\n",
    "\n",
    "count = int(M / (K+1)) * K + (M % (K+1)) \n",
    "\n",
    "result += count * a1\n",
    "result += (M-count) * a2\n",
    "\n",
    "print(result)"
   ]
  },
  {
   "cell_type": "code",
   "execution_count": null,
   "metadata": {},
   "outputs": [],
   "source": []
  }
 ],
 "metadata": {
  "kernelspec": {
   "display_name": "Python 3",
   "language": "python",
   "name": "python3"
  },
  "language_info": {
   "codemirror_mode": {
    "name": "ipython",
    "version": 3
   },
   "file_extension": ".py",
   "mimetype": "text/x-python",
   "name": "python",
   "nbconvert_exporter": "python",
   "pygments_lexer": "ipython3",
   "version": "3.8.3"
  }
 },
 "nbformat": 4,
 "nbformat_minor": 4
}
