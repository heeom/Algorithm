{
 "cells": [
  {
   "cell_type": "code",
   "execution_count": 6,
   "metadata": {},
   "outputs": [
    {
     "name": "stdout",
     "output_type": "stream",
     "text": [
      "5\n",
      "3 2 1 1 9\n",
      "8\n"
     ]
    }
   ],
   "source": [
    "from itertools import combinations\n",
    "\n",
    "n = int(input())\n",
    "\n",
    "coin = list(map(int, input().split()))\n",
    "money = set()\n",
    "\n",
    "for i in range(1,n+1): \n",
    "    m_list = list(combinations(coin, i)) #동전리스트에서 1부터 n-1개 뽑는 경우의수를 구해서 리스트만듬\n",
    "    for m in m_list: \n",
    "        money.add(sum(m)) #i개씩 뽑힌 동전들을 합해서 집합에 넣음\n",
    "        \n",
    "result = 1\n",
    "while True:\n",
    "    if result not in money:\n",
    "        break\n",
    "    result += 1\n",
    "    \n",
    "print(result)\n",
    "    "
   ]
  },
  {
   "cell_type": "code",
   "execution_count": 7,
   "metadata": {},
   "outputs": [
    {
     "name": "stdout",
     "output_type": "stream",
     "text": [
      "5\n",
      "3 2 1 1 9\n",
      "5\n"
     ]
    }
   ],
   "source": [
    "# 가지고 있는 동전들로target을 만족시킬 수 있다면 target을 업데이트 하는 방식\n",
    "n = int(input())\n",
    "data = list(map(int, input().split()))\n",
    "data.sort() #작은 순서대로 정렬\n",
    "\n",
    "target = 1\n",
    "for i in data:\n",
    "    if target < i:\n",
    "        break\n",
    "    target+=1\n",
    "    \n",
    "print(target)"
   ]
  },
  {
   "cell_type": "markdown",
   "metadata": {},
   "source": [
    "1. 화폐단위 기준으로 오름차순 정렬한다.<br>\n",
    "2. 1부터 차례대로 특정 금액을 만들 수 있는지 확인한다<br>\n",
    "3. 만약 target금액을 만들 수 있다면 target을 업데이트 한다.(target-1까지는 만들 수 있다는 의미)<br>\n",
    "* 현재 확인하는 동전을 이용해 target금액 또한 만들 수 있는지 확인하는 것이다<br>"
   ]
  },
  {
   "cell_type": "code",
   "execution_count": null,
   "metadata": {},
   "outputs": [],
   "source": []
  }
 ],
 "metadata": {
  "kernelspec": {
   "display_name": "Python 3",
   "language": "python",
   "name": "python3"
  },
  "language_info": {
   "codemirror_mode": {
    "name": "ipython",
    "version": 3
   },
   "file_extension": ".py",
   "mimetype": "text/x-python",
   "name": "python",
   "nbconvert_exporter": "python",
   "pygments_lexer": "ipython3",
   "version": "3.8.3"
  }
 },
 "nbformat": 4,
 "nbformat_minor": 4
}
