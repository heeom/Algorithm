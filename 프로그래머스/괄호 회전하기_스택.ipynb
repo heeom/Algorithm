{
 "cells": [
  {
   "cell_type": "markdown",
   "metadata": {},
   "source": [
    "https://programmers.co.kr/learn/courses/30/lessons/76502"
   ]
  },
  {
   "cell_type": "code",
   "execution_count": 18,
   "metadata": {},
   "outputs": [],
   "source": [
    "from collections import deque\n",
    "\n",
    "def check(s):\n",
    "        stack = []\n",
    "        for c in s:\n",
    "            if c == '[' or c == '(' or c == '{':\n",
    "                stack.append(c)\n",
    "            else:\n",
    "                if not stack:\n",
    "                    return False\n",
    "\n",
    "                x = stack.pop()\n",
    "\n",
    "                if c == ']' and x != '[':\n",
    "                    return False\n",
    "                elif c == '}' and x != '{':\n",
    "                    return False\n",
    "                elif c == ')' and x != '(':\n",
    "                    return False\n",
    "\n",
    "        return len(stack) == 0\n",
    "\n",
    "    \n",
    "def solution(s):\n",
    "    \n",
    "    answer = 0\n",
    "    string = deque(s)\n",
    "    \n",
    "    for _ in range(len(string)):\n",
    "        string.rotate(-1)\n",
    "        print(string)\n",
    "        if check(string):\n",
    "            answer+=1\n",
    "        \n",
    "    return answer"
   ]
  },
  {
   "cell_type": "code",
   "execution_count": 22,
   "metadata": {},
   "outputs": [],
   "source": [
    "from collections import deque\n",
    "def solution(ip):\n",
    "    def check(s):\n",
    "        stack = []\n",
    "        for c in s:\n",
    "            if c == '(' or c == '{' or c == '[':\n",
    "                stack.append(c)\n",
    "            else:\n",
    "                if not stack:\n",
    "                    return False\n",
    "                x = stack.pop()\n",
    "                if c == ')' and x != '(':\n",
    "                    return False\n",
    "                elif c == ')' and x != '(':\n",
    "                    return False\n",
    "                elif c == '}' and x != '{':\n",
    "                    return False\n",
    "        return len(stack) == 0\n",
    "    \n",
    "    ip = deque(ip)\n",
    "    answer = 0\n",
    "    for x in range(len(ip)):\n",
    "        ip.rotate(-1)\n",
    "        if check(ip):\n",
    "            answer += 1\n",
    "    return answer"
   ]
  },
  {
   "cell_type": "code",
   "execution_count": 19,
   "metadata": {},
   "outputs": [
    {
     "name": "stdout",
     "output_type": "stream",
     "text": [
      "deque([']', '(', ')', '{', '}', '['])\n",
      "deque(['(', ')', '{', '}', '[', ']'])\n",
      "deque([')', '{', '}', '[', ']', '('])\n",
      "deque(['{', '}', '[', ']', '(', ')'])\n",
      "deque(['}', '[', ']', '(', ')', '{'])\n",
      "deque(['[', ']', '(', ')', '{', '}'])\n"
     ]
    },
    {
     "data": {
      "text/plain": [
       "3"
      ]
     },
     "execution_count": 19,
     "metadata": {},
     "output_type": "execute_result"
    }
   ],
   "source": [
    "solution(\"[](){}\")"
   ]
  },
  {
   "cell_type": "code",
   "execution_count": null,
   "metadata": {},
   "outputs": [],
   "source": []
  }
 ],
 "metadata": {
  "kernelspec": {
   "display_name": "Python 3",
   "language": "python",
   "name": "python3"
  },
  "language_info": {
   "codemirror_mode": {
    "name": "ipython",
    "version": 3
   },
   "file_extension": ".py",
   "mimetype": "text/x-python",
   "name": "python",
   "nbconvert_exporter": "python",
   "pygments_lexer": "ipython3",
   "version": "3.8.3"
  }
 },
 "nbformat": 4,
 "nbformat_minor": 4
}
