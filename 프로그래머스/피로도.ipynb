{
 "cells": [
  {
   "cell_type": "markdown",
   "metadata": {},
   "source": [
    "https://programmers.co.kr/learn/courses/30/lessons/87946"
   ]
  },
  {
   "cell_type": "code",
   "execution_count": 1,
   "metadata": {},
   "outputs": [],
   "source": [
    "answer = 0\n",
    "\n",
    "def dfs(k, count, dungeons, visited):\n",
    "    global answer\n",
    "    \n",
    "    answer = max(answer, count) \n",
    "\n",
    "    for i in range(len(dungeons)):\n",
    "        if visited[i] != 1 and k>=dungeons[i][0]: #방문한적 없는 던전 and 현재 피로도 >= 최소 필요피로도이면\n",
    "            visited[i] = 1 #방문\n",
    "            dfs(k-dungeons[i][1], count+1, dungeons, visited) #dfs로 다음 던전 탐색\n",
    "            visited[i] = 0 #stack에서 pop되면 visited[i] = 0으로 만들어 줘야 다음 경로도 탐색 가능하다 \n",
    "\n",
    "def solution(k, dungeons):\n",
    "    \n",
    "    dfs(k, 0, dungeons, [0]*len(dungeons))\n",
    "    \n",
    "    return answer"
   ]
  },
  {
   "cell_type": "code",
   "execution_count": 2,
   "metadata": {},
   "outputs": [
    {
     "data": {
      "text/plain": [
       "3"
      ]
     },
     "execution_count": 2,
     "metadata": {},
     "output_type": "execute_result"
    }
   ],
   "source": [
    "solution(80,[[80,20],[50,40],[30,10]])"
   ]
  }
 ],
 "metadata": {
  "kernelspec": {
   "display_name": "Python 3",
   "language": "python",
   "name": "python3"
  },
  "language_info": {
   "codemirror_mode": {
    "name": "ipython",
    "version": 3
   },
   "file_extension": ".py",
   "mimetype": "text/x-python",
   "name": "python",
   "nbconvert_exporter": "python",
   "pygments_lexer": "ipython3",
   "version": "3.8.3"
  }
 },
 "nbformat": 4,
 "nbformat_minor": 4
}
