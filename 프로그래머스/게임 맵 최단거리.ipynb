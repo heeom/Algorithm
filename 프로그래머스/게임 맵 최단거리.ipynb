{
 "cells": [
  {
   "cell_type": "markdown",
   "metadata": {},
   "source": [
    "https://programmers.co.kr/learn/courses/30/lessons/1844\n",
    "### BFS\n",
    "maps[r][c]까지의 최단거리를 distance[r][c]에 저장"
   ]
  },
  {
   "cell_type": "code",
   "execution_count": 54,
   "metadata": {},
   "outputs": [],
   "source": [
    "from collections import deque\n",
    "\n",
    "def solution(maps):\n",
    "    d = [(0,1),(0,-1),(1,0),(-1,0)]\n",
    "    \n",
    "    n = len(maps)\n",
    "    m = len(maps[0])\n",
    "    \n",
    "    distance = [[-1]*m for _ in range(n)] #거리측정 할 그래프\n",
    "    \n",
    "    q = deque([])\n",
    "    q.append([0,0])\n",
    "    \n",
    "    distance[0][0] = 1\n",
    "    \n",
    "    while q:\n",
    "        r, c = q.popleft()\n",
    "        \n",
    "        for i in range(4):\n",
    "            nr = r+d[i][0]\n",
    "            nc = c+d[i][1]\n",
    "            #범위 벗어나지 않고, 벽이 아니라면 \n",
    "            if 0<=nr<n and 0<=nc<m and maps[nr][nc]==1:\n",
    "                if distance[nr][nc]==-1: #한번도 지나간적 없다면\n",
    "                    distance[nr][nc] = distance[r][c] + 1 #지나온 최단 거리 + 1\n",
    "                    q.append([nr,nc]) #현재위치\n",
    "    \n",
    "    \n",
    "    return distance[-1][-1]"
   ]
  },
  {
   "cell_type": "code",
   "execution_count": 55,
   "metadata": {},
   "outputs": [
    {
     "data": {
      "text/plain": [
       "11"
      ]
     },
     "execution_count": 55,
     "metadata": {},
     "output_type": "execute_result"
    }
   ],
   "source": [
    "solution([[1,0,1,1,1],[1,0,1,0,1],[1,0,1,1,1],[1,1,1,0,1],[0,0,0,0,1]])"
   ]
  }
 ],
 "metadata": {
  "kernelspec": {
   "display_name": "Python 3",
   "language": "python",
   "name": "python3"
  },
  "language_info": {
   "codemirror_mode": {
    "name": "ipython",
    "version": 3
   },
   "file_extension": ".py",
   "mimetype": "text/x-python",
   "name": "python",
   "nbconvert_exporter": "python",
   "pygments_lexer": "ipython3",
   "version": "3.8.3"
  }
 },
 "nbformat": 4,
 "nbformat_minor": 4
}
