{
 "cells": [
  {
   "cell_type": "markdown",
   "metadata": {},
   "source": [
    "https://programmers.co.kr/learn/courses/30/lessons/77885"
   ]
  },
  {
   "cell_type": "code",
   "execution_count": 66,
   "metadata": {},
   "outputs": [],
   "source": [
    "import math\n",
    "\n",
    "def solution(numbers):\n",
    "    answer = []\n",
    "        \n",
    "    for num in numbers:\n",
    "        if num % 2 == 0: #짝수라면 이진수로 표현했을 때 맨 끝자리가 '0' 이므로 맨끝자리만 '1'로 바꾼 수가 큰 수 중에 가장 작다. 즉 10진수 +1\n",
    "            answer.append(num+1)\n",
    "        else:\n",
    "            x = '0'+format(num, 'b')\n",
    "            fx = list(x)\n",
    "            idx = x.rfind('0') #우측부터 '0' 찾아서\n",
    "            fx[idx] = '1' # '0'을 '1'로 변경\n",
    "            fx[idx+1] = '0' \n",
    "            answer.append(int(''.join(fx),2))\n",
    "            \n",
    "    return answer"
   ]
  },
  {
   "cell_type": "code",
   "execution_count": 67,
   "metadata": {},
   "outputs": [
    {
     "data": {
      "text/plain": [
       "[3, 11, 13, 23]"
      ]
     },
     "execution_count": 67,
     "metadata": {},
     "output_type": "execute_result"
    }
   ],
   "source": [
    "solution([2,7,11,15])"
   ]
  },
  {
   "cell_type": "code",
   "execution_count": 26,
   "metadata": {},
   "outputs": [],
   "source": [
    "# 정확성: 81.8 (시간초과)\n",
    "\n",
    "import math\n",
    "\n",
    "def check(x, fx):\n",
    "    count = 0\n",
    "    bx = format(x, 'b')\n",
    "    bfx = format(fx, 'b')\n",
    "    \n",
    "    if len(bx) < len(bfx):\n",
    "        bx = '0'*(len(bfx)-len(bx))+bx\n",
    "    \n",
    "    for a, b in zip(bx, bfx):\n",
    "        if a != b:\n",
    "            count += 1\n",
    "        if count > 2:\n",
    "            return False\n",
    "    return True\n",
    "    \n",
    "def solution(numbers):\n",
    "    answer = []\n",
    "    \n",
    "    for num in numbers:\n",
    "        fnum = num+1\n",
    "        while True:\n",
    "            if check(num, fnum):\n",
    "                answer.append(fnum)\n",
    "                break\n",
    "            fnum += 1\n",
    "    \n",
    "    return answer"
   ]
  },
  {
   "cell_type": "code",
   "execution_count": 27,
   "metadata": {},
   "outputs": [
    {
     "data": {
      "text/plain": [
       "[3, 11]"
      ]
     },
     "execution_count": 27,
     "metadata": {},
     "output_type": "execute_result"
    }
   ],
   "source": [
    "solution([2,7])"
   ]
  }
 ],
 "metadata": {
  "kernelspec": {
   "display_name": "Python 3",
   "language": "python",
   "name": "python3"
  },
  "language_info": {
   "codemirror_mode": {
    "name": "ipython",
    "version": 3
   },
   "file_extension": ".py",
   "mimetype": "text/x-python",
   "name": "python",
   "nbconvert_exporter": "python",
   "pygments_lexer": "ipython3",
   "version": "3.8.3"
  }
 },
 "nbformat": 4,
 "nbformat_minor": 4
}
