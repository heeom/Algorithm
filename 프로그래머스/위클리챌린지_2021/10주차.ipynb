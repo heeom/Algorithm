{
 "cells": [
  {
   "cell_type": "code",
   "execution_count": 45,
   "metadata": {},
   "outputs": [],
   "source": [
    "def solution(line):\n",
    "    answer = []\n",
    "    n = len(line)\n",
    "    stars = []\n",
    "    \n",
    "    for i in range(n-1):\n",
    "        for j in range(i+1, n):\n",
    "            a,b,e = line[i]\n",
    "            c,d,f = line[j]\n",
    "            if a*d - b*c == 0: # 밑이 0이면 continue (0으로 나눌 수 없다)\n",
    "                continue\n",
    "\n",
    "            if (b*f - e*d) % (a*d - b*c) == 0 and (e*c - a*f) % (a*d - b*c) == 0: #정수 판별\n",
    "                x = (b*f - e*d) // (a*d - b*c)\n",
    "                y = (e*c - a*f) // (a*d - b*c)\n",
    "                stars.append([x,y])\n",
    "    \n",
    "    # 가장작은 x좌표와 가장 큰 y좌표를 기준으로 \n",
    "    min_x = min(stars)[0]\n",
    "    max_y = max(stars, key=lambda x:x[1])[1]\n",
    "       \n",
    "    # 기준좌표를 (0,0)으로 옮긴다 (모든 좌표는 4사분면에 위치한다 -> x>=0 and y<=0)\n",
    "    for s in stars:\n",
    "        s[0] -= min_x\n",
    "        s[1] -= max_y\n",
    "        \n",
    "    #행과 열의 범위를 구한다 -> 행:가장 작은 y좌표의 절대값, 열:가장 큰 x좌표\n",
    "    c = max(stars)[0]\n",
    "    r = abs(min(stars, key=lambda x:x[1])[1])\n",
    "    \n",
    "    #0부터 시작이므로 r+1, c+1\n",
    "    for i in range(r+1):\n",
    "        star = ''\n",
    "        for j in range(c+1):\n",
    "            if [j, -i] in stars:\n",
    "                star+='*'\n",
    "            else:\n",
    "                star+='.'\n",
    "        answer.append(star)\n",
    "    \n",
    "    return answer"
   ]
  },
  {
   "cell_type": "code",
   "execution_count": 46,
   "metadata": {},
   "outputs": [
    {
     "data": {
      "text/plain": [
       "['....*....',\n",
       " '.........',\n",
       " '.........',\n",
       " '*.......*',\n",
       " '.........',\n",
       " '.........',\n",
       " '.........',\n",
       " '.........',\n",
       " '*.......*']"
      ]
     },
     "execution_count": 46,
     "metadata": {},
     "output_type": "execute_result"
    }
   ],
   "source": [
    "solution([[2, -1, 4], [-2, -1, 4], [0, -1, 1], [5, -8, -12], [5, 8, 12]])"
   ]
  },
  {
   "cell_type": "code",
   "execution_count": null,
   "metadata": {},
   "outputs": [],
   "source": []
  },
  {
   "cell_type": "code",
   "execution_count": null,
   "metadata": {},
   "outputs": [],
   "source": []
  }
 ],
 "metadata": {
  "jupytext": {
   "formats": "ipynb,auto:light"
  },
  "kernelspec": {
   "display_name": "Python 3",
   "language": "python",
   "name": "python3"
  },
  "language_info": {
   "codemirror_mode": {
    "name": "ipython",
    "version": 3
   },
   "file_extension": ".py",
   "mimetype": "text/x-python",
   "name": "python",
   "nbconvert_exporter": "python",
   "pygments_lexer": "ipython3",
   "version": "3.8.3"
  }
 },
 "nbformat": 4,
 "nbformat_minor": 4
}
