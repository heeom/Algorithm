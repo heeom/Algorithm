{
 "cells": [
  {
   "cell_type": "code",
   "execution_count": 50,
   "metadata": {},
   "outputs": [],
   "source": [
    "from collections import deque\n",
    "\n",
    "def solution(enter, leave):\n",
    "    answer = []\n",
    "    n = len(enter)\n",
    "    graph = {node : set() for node in range(1,n+1)}\n",
    "    tmp = []\n",
    "    enter, leave = deque(enter), deque(leave)\n",
    "    e, l = 0,0 \n",
    "    while enter:\n",
    "        tmp.append(enter.popleft())\n",
    "        if len(tmp) > 1:\n",
    "            for i in range(len(tmp)):\n",
    "                for j in range(len(tmp)):\n",
    "                    if i!=j:\n",
    "                        graph[tmp[i]].add(tmp[j])\n",
    "\n",
    "        idx = 0\n",
    "        while True:\n",
    "            if tmp[idx] == leave[0]:\n",
    "                tmp.pop(idx)\n",
    "                leave.popleft()\n",
    "                idx = 0\n",
    "            idx += 1\n",
    "\n",
    "            if idx >= len(tmp):\n",
    "                break\n",
    "\n",
    "    for i in range(1, n+1):\n",
    "        answer.append(len(graph[i]))\n",
    "        \n",
    "    return answer"
   ]
  },
  {
   "cell_type": "code",
   "execution_count": 51,
   "metadata": {},
   "outputs": [
    {
     "data": {
      "text/plain": [
       "[3, 2, 2, 3]"
      ]
     },
     "execution_count": 51,
     "metadata": {},
     "output_type": "execute_result"
    }
   ],
   "source": [
    "solution([1,4,2,3], [2,1,3,4])"
   ]
  },
  {
   "cell_type": "code",
   "execution_count": 52,
   "metadata": {},
   "outputs": [
    {
     "data": {
      "text/plain": [
       "[0, 1, 1]"
      ]
     },
     "execution_count": 52,
     "metadata": {},
     "output_type": "execute_result"
    }
   ],
   "source": [
    "solution([1,3,2],[1,2,3])"
   ]
  },
  {
   "cell_type": "code",
   "execution_count": 64,
   "metadata": {},
   "outputs": [],
   "source": [
    "# 시간 초과...!!!\n",
    "\n",
    "from collections import deque\n",
    "\n",
    "def solution(enter, leave):\n",
    "    answer = []\n",
    "    n = len(enter)\n",
    "    graph = {node : set() for node in range(1,n+1)}\n",
    "    tmp = []\n",
    "    enter, leave = deque(enter), deque(leave)\n",
    "    \n",
    "    while enter:\n",
    "        tmp.append(enter.popleft())\n",
    "        if len(tmp) > 1:\n",
    "            for i in range(len(tmp)):\n",
    "                for j in range(i+1,len(tmp)):\n",
    "                    graph[tmp[i]].add(tmp[j])\n",
    "                    graph[tmp[j]].add(tmp[i])\n",
    "            \n",
    "        idx = 0\n",
    "        while True:\n",
    "            if tmp[idx] == leave[0]:\n",
    "                tmp.pop(idx)\n",
    "                leave.popleft()\n",
    "                idx = -1\n",
    "            idx += 1\n",
    "\n",
    "            if idx >= len(tmp):\n",
    "                break\n",
    "    for i in range(1, n+1):\n",
    "        answer.append(len(graph[i]))\n",
    "        \n",
    "    return answer"
   ]
  },
  {
   "cell_type": "code",
   "execution_count": 69,
   "metadata": {},
   "outputs": [
    {
     "data": {
      "text/plain": [
       "[0, 1, 1]"
      ]
     },
     "execution_count": 69,
     "metadata": {},
     "output_type": "execute_result"
    }
   ],
   "source": [
    "solution([1,3,2],[1,2,3])"
   ]
  },
  {
   "cell_type": "code",
   "execution_count": 68,
   "metadata": {},
   "outputs": [
    {
     "data": {
      "text/plain": [
       "[2, 2, 1, 3]"
      ]
     },
     "execution_count": 68,
     "metadata": {},
     "output_type": "execute_result"
    }
   ],
   "source": [
    "solution([1,4,2,3], [2,1,3,4])"
   ]
  },
  {
   "cell_type": "code",
   "execution_count": 4,
   "metadata": {},
   "outputs": [],
   "source": [
    "from collections import deque\n",
    "\n",
    "def solution(enter, leave):\n",
    "    answer = []\n",
    "    n = len(enter)\n",
    "#     graph = {node : set() for node in range(1,n+1)} \n",
    "#     set -> 만나는 사람 수를 체크할 배열\n",
    "    meeting = [0] * (n+1)\n",
    "    room = []\n",
    "    enter, leave = deque(enter), deque(leave)\n",
    "    \n",
    "    for node in enter: \n",
    "        room.append(node)\n",
    "#         if len(tmp) > 1:\n",
    "#             for i in range(len(tmp)):\n",
    "#                 for j in range(i+1,len(tmp)):\n",
    "#                     graph[tmp[i]].add(tmp[j])\n",
    "#                     graph[tmp[j]].add(tmp[i])\n",
    "#         아래와 같이 반복문을 수정해서 시간 복잡도를 m^2 -> m으로 줄일 수 있다 \n",
    "#         원소 하나씩 append되기 때문에 새로운 원소가 추가되어 room의 길이가 2보다 커질 때, 배열 내의 원소들이 만날 수 있는 사람 수  + 1씩만 해주면 된다.\n",
    "        if len(room) > 1:\n",
    "            for i in range(len(room)-1):\n",
    "                meeting[room[i]] +=1\n",
    "            meeting[node] = len(room)-1\n",
    "            \n",
    "        idx = 0\n",
    "        while True:\n",
    "            if room[idx] == leave[0]:\n",
    "                room.pop(idx)\n",
    "                leave.popleft()\n",
    "                idx = -1\n",
    "            idx += 1\n",
    "\n",
    "            if idx >= len(room):\n",
    "                break\n",
    "    answer = meeting[1:]        \n",
    "    return answer"
   ]
  },
  {
   "cell_type": "code",
   "execution_count": 5,
   "metadata": {},
   "outputs": [
    {
     "data": {
      "text/plain": [
       "[2, 2, 1, 3]"
      ]
     },
     "execution_count": 5,
     "metadata": {},
     "output_type": "execute_result"
    }
   ],
   "source": [
    "solution([1,4,2,3], [2,1,3,4])"
   ]
  },
  {
   "cell_type": "code",
   "execution_count": 6,
   "metadata": {},
   "outputs": [
    {
     "data": {
      "text/plain": [
       "[0, 1, 1]"
      ]
     },
     "execution_count": 6,
     "metadata": {},
     "output_type": "execute_result"
    }
   ],
   "source": [
    "solution([1,3,2],[1,2,3])"
   ]
  },
  {
   "cell_type": "code",
   "execution_count": null,
   "metadata": {},
   "outputs": [],
   "source": []
  }
 ],
 "metadata": {
  "kernelspec": {
   "display_name": "Python 3",
   "language": "python",
   "name": "python3"
  },
  "language_info": {
   "codemirror_mode": {
    "name": "ipython",
    "version": 3
   },
   "file_extension": ".py",
   "mimetype": "text/x-python",
   "name": "python",
   "nbconvert_exporter": "python",
   "pygments_lexer": "ipython3",
   "version": "3.8.3"
  }
 },
 "nbformat": 4,
 "nbformat_minor": 4
}
