{
 "cells": [
  {
   "cell_type": "code",
   "execution_count": 22,
   "metadata": {},
   "outputs": [],
   "source": [
    "from collections import deque\n",
    "\n",
    "#puzzle과 blank찾는 함수 : bfs로 구현\n",
    "def get_puzzle_or_blank(search_type, graph, visited, r, c): #search_type 빈칸:0, 퍼즐:1\n",
    "    q = deque()\n",
    "    nd = [(-1,0),(1,0),(0,-1),(0,1)]\n",
    "    \n",
    "    q.append((r,c))\n",
    "    visited[r][c] = 1\n",
    "    \n",
    "    result = set() #리턴할 빈칸\n",
    "    \n",
    "    while q:\n",
    "        now = q.popleft()\n",
    "        result.add(now)\n",
    "        \n",
    "        for d in nd:\n",
    "            nx = now[0]+d[0]\n",
    "            ny = now[1]+d[1]\n",
    "\n",
    "            if visited[nx][ny] == 0 and graph[nx][ny] == search_type:\n",
    "                q.append((nx,ny))\n",
    "                visited[nx][ny] = 1\n",
    "                \n",
    "    result = list(result)\n",
    "    result.sort()\n",
    "    \n",
    "    return result\n",
    "\n",
    "# puzzle 90도 회전 함수\n",
    "def rotate_90_degree(puzzle, table_length):\n",
    "    result = set()\n",
    "    for i in range(1, table_length-1):\n",
    "        for j in range(1, table_length-1):\n",
    "            if (i, j) in puzzle:\n",
    "                result.add((j,table_length-i-1)) \n",
    "                \n",
    "    result = list(result)\n",
    "    result.sort()\n",
    "    return result\n",
    "\n",
    "# 빈칸에 퍼즐이 들어갈 수 있는지 체크하는 함수\n",
    "# 정렬된 퍼즐,빈칸 리스트 원소들의 행열 증감이 각각 같으면 같은 모양이다. \n",
    "def check_available(blank, puzzle):\n",
    "    if len(blank) != len(puzzle):\n",
    "        return False\n",
    "    \n",
    "    length = len(blank)\n",
    "    \n",
    "    for i in range(length-1):\n",
    "        nbr, nbc = blank[i+1][0] - blank[i][0] , blank[i+1][1] - blank[i][1]\n",
    "        npr, npc = puzzle[i+1][0] - puzzle[i][0], puzzle[i+1][1] - puzzle[i][1]\n",
    "        \n",
    "        if nbr != npr or nbc != npc:\n",
    "            return False\n",
    "        \n",
    "    return True\n",
    "\n",
    "\n",
    "def solution(game_board, table):\n",
    "    answer = 0\n",
    "    \n",
    "    n = len(game_board)\n",
    "    \n",
    "    # game_board의 바깥 테두리 1로 두르기\n",
    "    # table 바깥 테두리 0으로 두르기\n",
    "    new_game_board = [[1] * (n+2) for _ in range(n+2)]\n",
    "    new_table = [[0] * (n+2) for _ in range(n+2)]\n",
    "    \n",
    "    for i in range(n):\n",
    "        for j in range(n):\n",
    "            new_game_board[i+1][j+1] = game_board[i][j]\n",
    "            new_table[i+1][j+1] = table[i][j]\n",
    " \n",
    "    #빈칸과 퍼즐 찾기 \n",
    "    blanks = []\n",
    "    puzzles = []\n",
    "    visited_blanks = [[0]*(n+2) for _ in range(n+2)]\n",
    "    visited_puzzles = [[0]*(n+2) for _ in range(n+2)]\n",
    "    \n",
    "    for i in range(1,n+1):\n",
    "        for j in range(1, n+1):\n",
    "            if new_game_board[i][j] == 0 and visited_blanks[i][j] == 0: #게임보드 빈칸\n",
    "                blanks.append(get_puzzle_or_blank(0, new_game_board, visited_blanks, i, j))\n",
    "            if new_table[i][j] == 1 and visited_puzzles[i][j] == 0: #테이블 퍼즐\n",
    "                puzzles.append(get_puzzle_or_blank(1, new_table, visited_puzzles, i, j))\n",
    "\n",
    "    for puzzle in puzzles:\n",
    "        match = False\n",
    "        for _ in range(4):\n",
    "            puzzle = rotate_90_degree(puzzle, n+2)\n",
    "            for blank in blanks:\n",
    "                if check_available(blank, puzzle):\n",
    "                    answer += len(blank)\n",
    "                    match = True # 회전 반복문 빠져 나갈 check\n",
    "                    blanks.remove(blank) #퍼즐 맞춘 빈공간 삭제\n",
    "                    break\n",
    "            if match: #다음 빈칸으로 넘어가기\n",
    "                break\n",
    "\n",
    "    return answer"
   ]
  },
  {
   "cell_type": "code",
   "execution_count": 23,
   "metadata": {},
   "outputs": [
    {
     "data": {
      "text/plain": [
       "0"
      ]
     },
     "execution_count": 23,
     "metadata": {},
     "output_type": "execute_result"
    }
   ],
   "source": [
    "solution([[0,0,0],[1,1,0],[1,1,1]],[[1,1,1],[1,0,0],[0,0,0]])"
   ]
  },
  {
   "cell_type": "code",
   "execution_count": 24,
   "metadata": {},
   "outputs": [
    {
     "data": {
      "text/plain": [
       "14"
      ]
     },
     "execution_count": 24,
     "metadata": {},
     "output_type": "execute_result"
    }
   ],
   "source": [
    "solution([[1,1,0,0,1,0],[0,0,1,0,1,0],[0,1,1,0,0,1],[1,1,0,1,1,1],[1,0,0,0,1,0],[0,1,1,1,0,0]],[[1,0,0,1,1,0],[1,0,1,0,1,0],[0,1,1,0,1,1],[0,0,1,0,0,0],[1,1,0,1,1,0],[0,1,0,0,0,0]])"
   ]
  },
  {
   "cell_type": "code",
   "execution_count": null,
   "metadata": {},
   "outputs": [],
   "source": []
  }
 ],
 "metadata": {
  "kernelspec": {
   "display_name": "Python 3",
   "language": "python",
   "name": "python3"
  },
  "language_info": {
   "codemirror_mode": {
    "name": "ipython",
    "version": 3
   },
   "file_extension": ".py",
   "mimetype": "text/x-python",
   "name": "python",
   "nbconvert_exporter": "python",
   "pygments_lexer": "ipython3",
   "version": "3.8.3"
  }
 },
 "nbformat": 4,
 "nbformat_minor": 4
}
