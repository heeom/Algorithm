{
 "cells": [
  {
   "cell_type": "code",
   "execution_count": 21,
   "metadata": {},
   "outputs": [],
   "source": [
    "def get_grade(avg):\n",
    "    if avg >= 90:\n",
    "        return 'A'\n",
    "    elif avg >= 80:\n",
    "        return 'B'\n",
    "    elif avg >= 70:\n",
    "        return 'C'\n",
    "    elif avg >= 50:\n",
    "        return 'D'\n",
    "    else:\n",
    "        return 'F'\n",
    "    \n",
    "def solution(scores):\n",
    "    answer = ''\n",
    "    length = len(scores)\n",
    "    students = [[] for _ in range(length)]\n",
    "    for i in range(length):\n",
    "        for j in range(length):\n",
    "            students[i].append(scores[j][i])\n",
    "\n",
    "    for i in range(length):\n",
    "        total = sum(students[i])\n",
    "        count = length\n",
    "        if (students[i][i] == max(students[i]) and students[i].count(max(students[i]))==1) or (students[i][i] == min(students[i]) and students[i].count(min(students[i]))==1):\n",
    "            total -= students[i][i]\n",
    "            count -= 1\n",
    "        answer += get_grade(total/count)\n",
    "        \n",
    "    return answer"
   ]
  },
  {
   "cell_type": "code",
   "execution_count": 22,
   "metadata": {},
   "outputs": [
    {
     "data": {
      "text/plain": [
       "'FBABD'"
      ]
     },
     "execution_count": 22,
     "metadata": {},
     "output_type": "execute_result"
    }
   ],
   "source": [
    "solution([[100,90,98,88,65],[50,45,99,85,77],[47,88,95,80,67],[61,57,100,80,65],[24,90,94,75,65]])"
   ]
  },
  {
   "cell_type": "code",
   "execution_count": 30,
   "metadata": {},
   "outputs": [],
   "source": [
    "# 행열 스위치\n",
    "scores = [[100,90,98,88,65],[50,45,99,85,77],[47,88,95,80,67],[61,57,100,80,65],[24,90,94,75,65]]\n",
    "# 방법1\n",
    "score1=[[s[i] for s in scores] for i in range(len(scores))]\n",
    "\n",
    "\n",
    "# 방법2\n",
    "score2=list(map(list, zip(*scores)))\n"
   ]
  },
  {
   "cell_type": "code",
   "execution_count": 31,
   "metadata": {},
   "outputs": [
    {
     "data": {
      "text/plain": [
       "[[100, 50, 47, 61, 24],\n",
       " [90, 45, 88, 57, 90],\n",
       " [98, 99, 95, 100, 94],\n",
       " [88, 85, 80, 80, 75],\n",
       " [65, 77, 67, 65, 65]]"
      ]
     },
     "execution_count": 31,
     "metadata": {},
     "output_type": "execute_result"
    }
   ],
   "source": [
    "score1"
   ]
  },
  {
   "cell_type": "code",
   "execution_count": 27,
   "metadata": {},
   "outputs": [
    {
     "data": {
      "text/plain": [
       "[[100, 50, 47, 61, 24],\n",
       " [90, 45, 88, 57, 90],\n",
       " [98, 99, 95, 100, 94],\n",
       " [88, 85, 80, 80, 75],\n",
       " [65, 77, 67, 65, 65]]"
      ]
     },
     "execution_count": 27,
     "metadata": {},
     "output_type": "execute_result"
    }
   ],
   "source": [
    "score2"
   ]
  },
  {
   "cell_type": "code",
   "execution_count": 34,
   "metadata": {},
   "outputs": [
    {
     "data": {
      "text/plain": [
       "[(100, 50, 47, 61, 24),\n",
       " (90, 45, 88, 57, 90),\n",
       " (98, 99, 95, 100, 94),\n",
       " (88, 85, 80, 80, 75),\n",
       " (65, 77, 67, 65, 65)]"
      ]
     },
     "execution_count": 34,
     "metadata": {},
     "output_type": "execute_result"
    }
   ],
   "source": [
    "list(zip(*scores))"
   ]
  },
  {
   "cell_type": "code",
   "execution_count": null,
   "metadata": {},
   "outputs": [],
   "source": []
  }
 ],
 "metadata": {
  "kernelspec": {
   "display_name": "Python 3",
   "language": "python",
   "name": "python3"
  },
  "language_info": {
   "codemirror_mode": {
    "name": "ipython",
    "version": 3
   },
   "file_extension": ".py",
   "mimetype": "text/x-python",
   "name": "python",
   "nbconvert_exporter": "python",
   "pygments_lexer": "ipython3",
   "version": "3.8.3"
  }
 },
 "nbformat": 4,
 "nbformat_minor": 4
}
