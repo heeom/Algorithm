{
 "cells": [
  {
   "cell_type": "code",
   "execution_count": 7,
   "metadata": {},
   "outputs": [],
   "source": [
    "def solution(sizes):\n",
    "    answer = 0\n",
    "    \n",
    "    max_w = max(sizes, key= lambda x : x[0])[0]\n",
    "    max_h = max(sizes, key= lambda x : x[1])[1]\n",
    "    print(max_w, max_h)\n",
    "    answer = max_w * max_h\n",
    "    idx = sizes.index(max_h, key = lambda x : x[1])\n",
    "    if sizes[idx][0] < max_h and sizes[idx][0] < max_w:\n",
    "        sizes[idx][0], sizes[idx][1] = sizes[idx][1], sizes[idx][0]\n",
    "        answer = min(answer, max_w * max(sizes, key=lambda x : x[1])[1])\n",
    "        sizes[idx][0], sizes[idx][1] = sizes[idx][1], sizes[idx][0]\n",
    "        \n",
    "    idx = sizes.index(max_w)\n",
    "    if sizes[idx][1] < max_w and sizes[idx][1] < max_h:\n",
    "        sizes[idx][0], sizes[idx][1] = sizes[idx][1], sizes[idx][0]\n",
    "        answer = min(answer, max_h * max(sizes, key=lambda x : x[0])[0])\n",
    "        sizes[idx][0], sizes[idx][1] = sizes[idx][1], sizes[idx][0]\n",
    "        \n",
    "    return answer"
   ]
  },
  {
   "cell_type": "code",
   "execution_count": 10,
   "metadata": {},
   "outputs": [
    {
     "ename": "ValueError",
     "evalue": "15 is not in list",
     "output_type": "error",
     "traceback": [
      "\u001b[1;31m---------------------------------------------------------------------------\u001b[0m",
      "\u001b[1;31mValueError\u001b[0m                                Traceback (most recent call last)",
      "\u001b[1;32m<ipython-input-10-72ad4bf1f3e6>\u001b[0m in \u001b[0;36m<module>\u001b[1;34m\u001b[0m\n\u001b[1;32m----> 1\u001b[1;33m \u001b[0msolution\u001b[0m\u001b[1;33m(\u001b[0m\u001b[1;33m[\u001b[0m\u001b[1;33m[\u001b[0m\u001b[1;36m10\u001b[0m\u001b[1;33m,\u001b[0m \u001b[1;36m7\u001b[0m\u001b[1;33m]\u001b[0m\u001b[1;33m,\u001b[0m \u001b[1;33m[\u001b[0m\u001b[1;36m12\u001b[0m\u001b[1;33m,\u001b[0m \u001b[1;36m3\u001b[0m\u001b[1;33m]\u001b[0m\u001b[1;33m,\u001b[0m \u001b[1;33m[\u001b[0m\u001b[1;36m8\u001b[0m\u001b[1;33m,\u001b[0m \u001b[1;36m15\u001b[0m\u001b[1;33m]\u001b[0m\u001b[1;33m,\u001b[0m \u001b[1;33m[\u001b[0m\u001b[1;36m14\u001b[0m\u001b[1;33m,\u001b[0m \u001b[1;36m7\u001b[0m\u001b[1;33m]\u001b[0m\u001b[1;33m,\u001b[0m \u001b[1;33m[\u001b[0m\u001b[1;36m5\u001b[0m\u001b[1;33m,\u001b[0m \u001b[1;36m15\u001b[0m\u001b[1;33m]\u001b[0m\u001b[1;33m]\u001b[0m\u001b[1;33m)\u001b[0m\u001b[1;33m\u001b[0m\u001b[1;33m\u001b[0m\u001b[0m\n\u001b[0m",
      "\u001b[1;32m<ipython-input-9-6e221b8d903e>\u001b[0m in \u001b[0;36msolution\u001b[1;34m(sizes)\u001b[0m\n\u001b[0;32m      9\u001b[0m     \u001b[0manswer\u001b[0m \u001b[1;33m=\u001b[0m \u001b[0mmax_w\u001b[0m \u001b[1;33m*\u001b[0m \u001b[0mmax_h\u001b[0m\u001b[1;33m\u001b[0m\u001b[1;33m\u001b[0m\u001b[0m\n\u001b[0;32m     10\u001b[0m \u001b[1;33m\u001b[0m\u001b[0m\n\u001b[1;32m---> 11\u001b[1;33m     \u001b[0midx\u001b[0m \u001b[1;33m=\u001b[0m \u001b[0msizes\u001b[0m\u001b[1;33m.\u001b[0m\u001b[0mindex\u001b[0m\u001b[1;33m(\u001b[0m\u001b[0mmax_h\u001b[0m\u001b[1;33m)\u001b[0m\u001b[1;33m\u001b[0m\u001b[1;33m\u001b[0m\u001b[0m\n\u001b[0m\u001b[0;32m     12\u001b[0m \u001b[1;33m\u001b[0m\u001b[0m\n\u001b[0;32m     13\u001b[0m     \u001b[1;32mif\u001b[0m \u001b[0mwidth\u001b[0m\u001b[1;33m[\u001b[0m\u001b[0midx\u001b[0m\u001b[1;33m]\u001b[0m \u001b[1;33m<\u001b[0m \u001b[0mheight\u001b[0m\u001b[1;33m[\u001b[0m\u001b[0midx\u001b[0m\u001b[1;33m]\u001b[0m \u001b[1;32mand\u001b[0m \u001b[0mheight\u001b[0m\u001b[1;33m[\u001b[0m\u001b[0midx\u001b[0m\u001b[1;33m]\u001b[0m \u001b[1;33m<\u001b[0m \u001b[0mmax_w\u001b[0m\u001b[1;33m:\u001b[0m\u001b[1;33m\u001b[0m\u001b[1;33m\u001b[0m\u001b[0m\n",
      "\u001b[1;31mValueError\u001b[0m: 15 is not in list"
     ]
    }
   ],
   "source": [
    "solution([[10, 7], [12, 3], [8, 15], [14, 7], [5, 15]])"
   ]
  },
  {
   "cell_type": "code",
   "execution_count": 19,
   "metadata": {},
   "outputs": [],
   "source": [
    "def solution(sizes):\n",
    "    answer = 0\n",
    "\n",
    "    width = [i[0] for i in sizes]\n",
    "    hight = [i[1] for i in sizes]\n",
    "    \n",
    "    max_w = max(width)\n",
    "    max_h = max(hight)\n",
    "    answer = max_w * max_h\n",
    "    \n",
    "    if max_w < max_h:\n",
    "        for i in range(len(sizes)):\n",
    "            if width[i] > hight[i]:\n",
    "                width[i], hight[i] = hight[i], width[i]\n",
    "        max_w = max(width)\n",
    "    else:\n",
    "        for i in range(len(sizes)):\n",
    "            if width[i] < hight[i]:\n",
    "                width[i], hight[i] = hight[i], width[i]\n",
    "        max_h = max(hight)\n",
    "    answer = min(answer, max_w * max_h)\n",
    "    return answer\n",
    "    \n",
    "    "
   ]
  },
  {
   "cell_type": "code",
   "execution_count": 20,
   "metadata": {},
   "outputs": [
    {
     "data": {
      "text/plain": [
       "120"
      ]
     },
     "execution_count": 20,
     "metadata": {},
     "output_type": "execute_result"
    }
   ],
   "source": [
    "solution([[10, 7], [12, 3], [8, 15], [14, 7], [5, 15]])"
   ]
  },
  {
   "cell_type": "code",
   "execution_count": 21,
   "metadata": {},
   "outputs": [
    {
     "data": {
      "text/plain": [
       "4000"
      ]
     },
     "execution_count": 21,
     "metadata": {},
     "output_type": "execute_result"
    }
   ],
   "source": [
    "solution([[60, 50], [30, 70], [60, 30], [80, 40]])"
   ]
  },
  {
   "cell_type": "code",
   "execution_count": null,
   "metadata": {},
   "outputs": [],
   "source": []
  }
 ],
 "metadata": {
  "kernelspec": {
   "display_name": "Python 3",
   "language": "python",
   "name": "python3"
  },
  "language_info": {
   "codemirror_mode": {
    "name": "ipython",
    "version": 3
   },
   "file_extension": ".py",
   "mimetype": "text/x-python",
   "name": "python",
   "nbconvert_exporter": "python",
   "pygments_lexer": "ipython3",
   "version": "3.8.3"
  }
 },
 "nbformat": 4,
 "nbformat_minor": 4
}
