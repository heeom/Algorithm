{
 "cells": [
  {
   "cell_type": "code",
   "execution_count": 9,
   "metadata": {},
   "outputs": [],
   "source": [
    "import copy\n",
    "def solution(table, languages, preference):\n",
    "    answer = ''\n",
    "    \n",
    "    lang_type = [\"JAVA\", \"JAVASCRIPT\", \"C\", \"C++\" ,\"C#\" , \"SQL\", \"PYTHON\", \"KOTLIN\", \"PHP\"]\n",
    "    dev_type = [\"SI\", \"CONTENTS\", \"HARDWARE\", \"PORTAL\", \"GAME\"]\n",
    "    \n",
    "#     lang_set = {lang : 0 for lang in lang_type} \n",
    "#     score = {dev : lang_set for dev in dev_type}  주소를 참조하므로 하나의 딕셔너리 공유하게 된다! -> 아래처럼 해야함 \n",
    "    score = {dev : {lang : 0 for lang in lang_type} for dev in dev_type}\n",
    "    result = {dev : 0 for dev in dev_type}\n",
    "    \n",
    "    array = []\n",
    "    for s in table:\n",
    "        array = list(map(str, s.split(' ')))\n",
    "\n",
    "        for idx in range(1,6):\n",
    "            score[array[0]][array[idx]] = 6-idx\n",
    "\n",
    "            \n",
    "    for i in range(len(languages)):\n",
    "        for d in dev_type:\n",
    "            result[d] += score[d][languages[i]]*preference[i]\n",
    "    \n",
    "    answer = sorted(result.items(), key=lambda x:[-x[1],x[0]])[0][0]\n",
    "            \n",
    "    return answer"
   ]
  },
  {
   "cell_type": "code",
   "execution_count": 10,
   "metadata": {},
   "outputs": [
    {
     "data": {
      "text/plain": [
       "'HARDWARE'"
      ]
     },
     "execution_count": 10,
     "metadata": {},
     "output_type": "execute_result"
    }
   ],
   "source": [
    "solution([\"SI JAVA JAVASCRIPT SQL PYTHON C#\", \"CONTENTS JAVASCRIPT JAVA PYTHON SQL C++\", \"HARDWARE C C++ PYTHON JAVA JAVASCRIPT\", \"PORTAL JAVA JAVASCRIPT PYTHON KOTLIN PHP\", \"GAME C++ C# JAVASCRIPT C JAVA\"],[\"PYTHON\", \"C++\", \"SQL\"],[7, 5, 5])"
   ]
  },
  {
   "cell_type": "code",
   "execution_count": 11,
   "metadata": {},
   "outputs": [
    {
     "data": {
      "text/plain": [
       "'PORTAL'"
      ]
     },
     "execution_count": 11,
     "metadata": {},
     "output_type": "execute_result"
    }
   ],
   "source": [
    "solution([\"SI JAVA JAVASCRIPT SQL PYTHON C#\", \"CONTENTS JAVASCRIPT JAVA PYTHON SQL C++\", \"HARDWARE C C++ PYTHON JAVA JAVASCRIPT\", \"PORTAL JAVA JAVASCRIPT PYTHON KOTLIN PHP\", \"GAME C++ C# JAVASCRIPT C JAVA\"], [\"JAVA\", \"JAVASCRIPT\"], [7, 5])"
   ]
  },
  {
   "cell_type": "code",
   "execution_count": null,
   "metadata": {},
   "outputs": [],
   "source": []
  }
 ],
 "metadata": {
  "kernelspec": {
   "display_name": "Python 3",
   "language": "python",
   "name": "python3"
  },
  "language_info": {
   "codemirror_mode": {
    "name": "ipython",
    "version": 3
   },
   "file_extension": ".py",
   "mimetype": "text/x-python",
   "name": "python",
   "nbconvert_exporter": "python",
   "pygments_lexer": "ipython3",
   "version": "3.8.3"
  }
 },
 "nbformat": 4,
 "nbformat_minor": 4
}
