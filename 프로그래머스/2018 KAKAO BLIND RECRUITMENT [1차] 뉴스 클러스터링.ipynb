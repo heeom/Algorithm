{
 "cells": [
  {
   "cell_type": "markdown",
   "metadata": {},
   "source": [
    "https://programmers.co.kr/learn/courses/30/lessons/17677"
   ]
  },
  {
   "cell_type": "code",
   "execution_count": 83,
   "metadata": {},
   "outputs": [],
   "source": [
    "import math\n",
    "def solution(str1, str2):\n",
    "    \n",
    "    str1_dict = {}\n",
    "    str2_dict = {}\n",
    "    \n",
    "    for i in range(len(str1)-1):\n",
    "        if ('a' <= str1[i] <= 'z' or 'A' <= str1[i] <= 'Z') and ('a' <= str1[i+1] <= 'z' or 'A' <= str1[i+1] <= 'Z'):\n",
    "            a = (str1[i]+str1[i+1]).upper()\n",
    "            if a in str1_dict:\n",
    "                str1_dict[a]+=1\n",
    "            else:\n",
    "                str1_dict[a]=1\n",
    "    \n",
    "    for i in range(len(str2)-1):\n",
    "        if ('a' <= str2[i] <= 'z' or 'A' <= str2[i] <= 'Z') and ('a' <= str2[i+1] <= 'z' or 'A' <= str2[i+1] <= 'Z'):\n",
    "            a = (str2[i]+str2[i+1]).upper()\n",
    "            if a in str2_dict:\n",
    "                str2_dict[a]+=1\n",
    "            else:\n",
    "                str2_dict[a]=1\n",
    "                \n",
    "    #두 집합이 모두 공집합일 경우: J(A,B) = 1\n",
    "    if len(str1_dict) == 0 and len(str2_dict) == 0:\n",
    "        return 65536\n",
    "      \n",
    "    #dictionary에서 key만 가져와서 집합으로 만든다    \n",
    "    str1_set = set(str1_dict.keys())\n",
    "    str2_set = set(str2_dict.keys())\n",
    "    \n",
    "    intersect = str1_set.intersection(str2_set)\n",
    "    diff = str1_set.union(str2_set) - intersect\n",
    "    \n",
    "    #두 집합의 교집합이 존재하지 않는 경우\n",
    "    if len(intersect) == 0:\n",
    "        return 0\n",
    "    \n",
    "    intersect_cnt = 0\n",
    "    union_cnt = 0\n",
    "    \n",
    "    #교집합의 경우 -> 최소값\n",
    "    #합집합의 경우 -> 최대값\n",
    "    for i in intersect:\n",
    "        intersect_cnt += min(str1_dict[i],str2_dict[i])\n",
    "        union_cnt += max(str1_dict[i],str2_dict[i])\n",
    "    \n",
    "    #안됨!! -> value값들을 더해야한다\n",
    "    #union_cnt += len(diff)\n",
    "    for d in diff:\n",
    "        if d in str1_dict:\n",
    "            union_cnt+=str1_dict[d]\n",
    "        else:\n",
    "            union_cnt+=str2_dict[d]\n",
    "    \n",
    "    #소수점아래는 버림\n",
    "    return math.floor(intersect_cnt / union_cnt * 65536)"
   ]
  },
  {
   "cell_type": "code",
   "execution_count": 84,
   "metadata": {},
   "outputs": [
    {
     "data": {
      "text/plain": [
       "16384"
      ]
     },
     "execution_count": 84,
     "metadata": {},
     "output_type": "execute_result"
    }
   ],
   "source": [
    "solution('FRANCE','french')"
   ]
  },
  {
   "cell_type": "code",
   "execution_count": 85,
   "metadata": {},
   "outputs": [
    {
     "data": {
      "text/plain": [
       "43690"
      ]
     },
     "execution_count": 85,
     "metadata": {},
     "output_type": "execute_result"
    }
   ],
   "source": [
    "solution(\"aa1+aa2\", \"AAAA12\")"
   ]
  },
  {
   "cell_type": "code",
   "execution_count": 86,
   "metadata": {},
   "outputs": [
    {
     "data": {
      "text/plain": [
       "0"
      ]
     },
     "execution_count": 86,
     "metadata": {},
     "output_type": "execute_result"
    }
   ],
   "source": [
    "solution(\"A+C\",\"DEF\")"
   ]
  },
  {
   "cell_type": "markdown",
   "metadata": {},
   "source": [
    "<h2>다른 사람 코드</h2>"
   ]
  },
  {
   "cell_type": "code",
   "execution_count": 87,
   "metadata": {},
   "outputs": [],
   "source": [
    "import re\n",
    "import math\n",
    "\n",
    "def solution(str1, str2):\n",
    "    str1 = [str1[i:i+2].lower() for i in range(0, len(str1)-1) if not re.findall('[^a-zA-Z]+', str1[i:i+2])]\n",
    "    str2 = [str2[i:i+2].lower() for i in range(0, len(str2)-1) if not re.findall('[^a-zA-Z]+', str2[i:i+2])]\n",
    "\n",
    "    gyo = set(str1) & set(str2)\n",
    "    hap = set(str1) | set(str2)\n",
    "\n",
    "    if len(hap) == 0 :\n",
    "        return 65536\n",
    "\n",
    "    gyo_sum = sum([min(str1.count(gg), str2.count(gg)) for gg in gyo])\n",
    "    hap_sum = sum([max(str1.count(hh), str2.count(hh)) for hh in hap])\n",
    "\n",
    "    return math.floor((gyo_sum/hap_sum)*65536)"
   ]
  }
 ],
 "metadata": {
  "kernelspec": {
   "display_name": "Python 3",
   "language": "python",
   "name": "python3"
  },
  "language_info": {
   "codemirror_mode": {
    "name": "ipython",
    "version": 3
   },
   "file_extension": ".py",
   "mimetype": "text/x-python",
   "name": "python",
   "nbconvert_exporter": "python",
   "pygments_lexer": "ipython3",
   "version": "3.8.3"
  }
 },
 "nbformat": 4,
 "nbformat_minor": 4
}
