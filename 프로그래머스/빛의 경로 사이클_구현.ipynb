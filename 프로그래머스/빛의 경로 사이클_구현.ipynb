{
 "cells": [
  {
   "cell_type": "markdown",
   "metadata": {},
   "source": [
    "https://programmers.co.kr/learn/courses/30/lessons/86052"
   ]
  },
  {
   "cell_type": "code",
   "execution_count": 23,
   "metadata": {},
   "outputs": [],
   "source": [
    "def move(grid, visited, start_node):\n",
    "    x, y, direct = start_node\n",
    "    d = [(0,-1),(1,0),(0,-1),(-1,0)] # 동,남,서,북\n",
    "    length = 0\n",
    "    \n",
    "    while True:\n",
    "        if visited[x][y][direct]: #방문한 곳으로 되돌아옴 == 사이클\n",
    "            break\n",
    "            \n",
    "        visited[x][y][direct] = True\n",
    "        length += 1\n",
    "        \n",
    "        #방향 변경\n",
    "        if grid[x][y] == 'S': #현재 칸 'S' 이면 직진\n",
    "            pass\n",
    "        elif grid[x][y] == 'R': #우회전\n",
    "            direct = (direct+1) % 4\n",
    "        elif grid[x][y] == 'L': #좌회전\n",
    "            direct = (direct+3) % 4\n",
    "            \n",
    "        x = (x + d[direct][0]) % len(grid) #벽에 부딪히면 반대편으로 다시 돌아옴 ex) x가 len(grid) -> 0\n",
    "        y = (y + d[direct][1]) % len(grid[0])\n",
    "        \n",
    "    return length\n",
    "            \n",
    "\n",
    "def solution(grid):\n",
    "    answer = []\n",
    "    visited = [[[False] * 4 for _ in range(len(grid[0]))] for _ in range(len(grid))]\n",
    "    \n",
    "    for i in range(len(grid)):\n",
    "        for j in range(len(grid[0])):\n",
    "            for k in range(4): # 방향 \n",
    "                if visited[i][j][k] == False: \n",
    "                    answer.append(move(grid,visited,[i,j,k]))\n",
    "    return sorted(answer)"
   ]
  },
  {
   "cell_type": "code",
   "execution_count": 24,
   "metadata": {},
   "outputs": [
    {
     "data": {
      "text/plain": [
       "[16]"
      ]
     },
     "execution_count": 24,
     "metadata": {},
     "output_type": "execute_result"
    }
   ],
   "source": [
    "solution([\"SL\",\"LR\"])"
   ]
  },
  {
   "cell_type": "code",
   "execution_count": null,
   "metadata": {},
   "outputs": [],
   "source": []
  }
 ],
 "metadata": {
  "kernelspec": {
   "display_name": "Python 3",
   "language": "python",
   "name": "python3"
  },
  "language_info": {
   "codemirror_mode": {
    "name": "ipython",
    "version": 3
   },
   "file_extension": ".py",
   "mimetype": "text/x-python",
   "name": "python",
   "nbconvert_exporter": "python",
   "pygments_lexer": "ipython3",
   "version": "3.8.3"
  }
 },
 "nbformat": 4,
 "nbformat_minor": 4
}
